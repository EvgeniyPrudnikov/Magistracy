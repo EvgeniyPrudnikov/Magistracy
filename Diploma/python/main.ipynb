{
 "cells": [
  {
   "cell_type": "markdown",
   "metadata": {
    "deletable": true,
    "editable": true
   },
   "source": [
    "### Enviroment preparation"
   ]
  },
  {
   "cell_type": "code",
   "execution_count": 1,
   "metadata": {
    "collapsed": false,
    "deletable": true,
    "editable": true
   },
   "outputs": [],
   "source": [
    "from pyspark import SparkContext, SparkConf\n",
    "from pyspark.sql import SQLContext, Row\n",
    "from pyspark.sql.types import *\n",
    "import pyspark.sql.functions as F \n",
    "import numpy as np\n",
    "import pandas as pd\n",
    "import random\n",
    "import time as t\n",
    "import os\n",
    "from subprocess import Popen\n",
    "import matplotlib.pyplot as plt\n",
    "%matplotlib inline"
   ]
  },
  {
   "cell_type": "code",
   "execution_count": 39,
   "metadata": {
    "collapsed": false,
    "deletable": true,
    "editable": true
   },
   "outputs": [],
   "source": [
    "#ControlSparkCluster('stop')"
   ]
  },
  {
   "cell_type": "code",
   "execution_count": 3,
   "metadata": {
    "collapsed": false,
    "deletable": true,
    "editable": true
   },
   "outputs": [],
   "source": [
    "def ControlSparkCluster(action):\n",
    "    if action == 'start':\n",
    "        Popen('./start_cluster.sh',shell=True)\n",
    "        t.sleep(10)\n",
    "        print 'cluster started'\n",
    "    elif action == 'stop':\n",
    "        Popen('./stop_cluster.sh',shell=True)\n",
    "        sc.stop()\n",
    "        t.sleep(3)\n",
    "        print 'cluster stopped'\n",
    "    else:\n",
    "        raise Exception('Unsupported command!')"
   ]
  },
  {
   "cell_type": "code",
   "execution_count": 30,
   "metadata": {
    "collapsed": false,
    "deletable": true,
    "editable": true
   },
   "outputs": [
    {
     "name": "stdout",
     "output_type": "stream",
     "text": [
      "cluster started\n"
     ]
    }
   ],
   "source": [
    "ControlSparkCluster('start')"
   ]
  },
  {
   "cell_type": "code",
   "execution_count": 33,
   "metadata": {
    "collapsed": false,
    "deletable": true,
    "editable": true
   },
   "outputs": [],
   "source": [
    "conf = SparkConf().setMaster(\"spark://cathome:7077\").setAppName(\"bosh\")\\\n",
    ".setAll((['spark.executor.cores','4']\n",
    "        ,['spark.driver.cores','4']\n",
    "        ,['spark.driver.memory','1g']\n",
    "        ,['spark.executor.memory','1g']\n",
    "        ,['spark.python.worker.memory','2g']\n",
    "        ,['spark.default.parallelism','4']\n",
    "       ))"
   ]
  },
  {
   "cell_type": "code",
   "execution_count": 34,
   "metadata": {
    "collapsed": false,
    "deletable": true,
    "editable": true,
    "scrolled": true
   },
   "outputs": [],
   "source": [
    "sc = SparkContext(conf=conf)\n",
    "sqlContext = SQLContext(sc)"
   ]
  },
  {
   "cell_type": "markdown",
   "metadata": {
    "collapsed": true,
    "deletable": true,
    "editable": true
   },
   "source": [
    "### Data preparation"
   ]
  },
  {
   "cell_type": "code",
   "execution_count": 35,
   "metadata": {
    "collapsed": true,
    "deletable": true,
    "editable": true
   },
   "outputs": [],
   "source": [
    "dir_name = '../../../diploma_data'"
   ]
  },
  {
   "cell_type": "code",
   "execution_count": 36,
   "metadata": {
    "collapsed": true,
    "deletable": true,
    "editable": true
   },
   "outputs": [],
   "source": [
    "tr_num_file_name = 'train_numeric.csv'\n",
    "tr_date_file_name = 'train_date.csv'\n",
    "tr_cat_file_name = 'train_categorical.csv'\n",
    "#ts_file_name = 'test_numeric.csv'"
   ]
  },
  {
   "cell_type": "code",
   "execution_count": 37,
   "metadata": {
    "collapsed": false,
    "deletable": true,
    "editable": true
   },
   "outputs": [],
   "source": [
    "tr_num_data_file = '{0}/{1}'.format(dir_name,tr_num_file_name)\n",
    "tr_date_data_file = '{0}/{1}'.format(dir_name,tr_date_file_name)\n",
    "tr_cat_data_file = '{0}/{1}'.format(dir_name,tr_cat_file_name)"
   ]
  },
  {
   "cell_type": "code",
   "execution_count": 38,
   "metadata": {
    "collapsed": false,
    "deletable": true,
    "editable": true
   },
   "outputs": [
    {
     "name": "stdout",
     "output_type": "stream",
     "text": [
      "CPU times: user 48 ms, sys: 16 ms, total: 64 ms\n",
      "Wall time: 4min 22s\n"
     ]
    }
   ],
   "source": [
    "%%time\n",
    "df_num = sqlContext.read.csv(tr_num_data_file, sep=',', header=True, inferSchema=True)\n",
    "df_date = sqlContext.read.csv(tr_date_data_file, sep=',', header=True, inferSchema=True)\n",
    "df_cat = sqlContext.read.csv(tr_cat_data_file, sep=',', header=True, inferSchema=True)"
   ]
  },
  {
   "cell_type": "markdown",
   "metadata": {
    "deletable": true,
    "editable": true
   },
   "source": [
    "### Data analisys/Data transformation"
   ]
  },
  {
   "cell_type": "code",
   "execution_count": 41,
   "metadata": {
    "collapsed": false,
    "deletable": true,
    "editable": true
   },
   "outputs": [],
   "source": [
    "df2 = df_num\n",
    "df3 = df_date\n",
    "df4 = df_cat"
   ]
  },
  {
   "cell_type": "code",
   "execution_count": 43,
   "metadata": {
    "collapsed": true
   },
   "outputs": [],
   "source": [
    "def plt_hist(counts_by_col_l):\n",
    "    row_fileds = counts_by_col_l[0].__fields__\n",
    "    hist_v = map(float,[counts_by_col_l[0][key] for key in row_fileds])\n",
    "    elems = list(xrange(0,len(hist_v)))     \n",
    "    plt.figure(figsize=(18,5))\n",
    "    plt.ylabel('proc')\n",
    "    plt.xlabel('col id')\n",
    "    plt.grid(True)\n",
    "    plt.xlim([-10,len(elems) + 10])\n",
    "    width = 1/1\n",
    "    #plt.xticks(elems, row_fileds)\n",
    "    plt.bar(elems, hist_v, width, color=\"blue\")"
   ]
  },
  {
   "cell_type": "code",
   "execution_count": 44,
   "metadata": {
    "collapsed": true
   },
   "outputs": [],
   "source": [
    "def plt_pipe(counts_1_all_l):\n",
    "    \n",
    "    labels = 'Response:0', 'Response:1'\n",
    "    sizes = (counts_1_all_l[0][0],counts_1_all_l[0][1])\n",
    "    explode = (0.2, 0)  \n",
    "\n",
    "    fig1, ax1 = plt.subplots()\n",
    "    ax1.pie(sizes, explode=explode, labels=labels, autopct='%1.1f%%',\n",
    "            shadow=True, startangle=90)\n",
    "    ax1.axis('equal') "
   ]
  },
  {
   "cell_type": "code",
   "execution_count": null,
   "metadata": {
    "collapsed": true
   },
   "outputs": [],
   "source": [
    "counts_1_all_l = df2.select(F.sum(F.when(df2['Response'] == 1, 1).otherwise(0)).alias('count_1') , F.count('*').alias('count_all') ).collect()"
   ]
  },
  {
   "cell_type": "code",
   "execution_count": 54,
   "metadata": {
    "collapsed": false
   },
   "outputs": [
    {
     "data": {
      "image/png": "[encoded data removed]",
      "text/plain": [
       "<matplotlib.figure.Figure at 0x7fac6934e990>"
      ]
     },
     "metadata": {},
     "output_type": "display_data"
    }
   ],
   "source": [
    "plt_pipe(counts_1_all_l)"
   ]
  },
  {
   "cell_type": "code",
   "execution_count": 12,
   "metadata": {
    "collapsed": false,
    "deletable": true,
    "editable": true
   },
   "outputs": [],
   "source": [
    "counts_by_col = df2.select(*[(F.count(c) / F.count(\"*\")).alias(c) for c in df2.columns])"
   ]
  },
  {
   "cell_type": "code",
   "execution_count": 13,
   "metadata": {
    "collapsed": false,
    "deletable": true,
    "editable": true
   },
   "outputs": [
    {
     "data": {
      "text/html": [
       "<div>\n",
       "<table border=\"1\" class=\"dataframe\">\n",
       "  <thead>\n",
       "    <tr style=\"text-align: right;\">\n",
       "      <th></th>\n",
       "      <th>Id</th>\n",
       "      <th>L0_S0_F0</th>\n",
       "      <th>L0_S0_F2</th>\n",
       "      <th>L0_S0_F4</th>\n",
       "      <th>L0_S0_F6</th>\n",
       "      <th>L0_S0_F8</th>\n",
       "      <th>L0_S0_F10</th>\n",
       "      <th>L0_S0_F12</th>\n",
       "      <th>L0_S0_F14</th>\n",
       "      <th>L0_S0_F16</th>\n",
       "      <th>...</th>\n",
       "      <th>L3_S50_F4245</th>\n",
       "      <th>L3_S50_F4247</th>\n",
       "      <th>L3_S50_F4249</th>\n",
       "      <th>L3_S50_F4251</th>\n",
       "      <th>L3_S50_F4253</th>\n",
       "      <th>L3_S51_F4256</th>\n",
       "      <th>L3_S51_F4258</th>\n",
       "      <th>L3_S51_F4260</th>\n",
       "      <th>L3_S51_F4262</th>\n",
       "      <th>Response</th>\n",
       "    </tr>\n",
       "  </thead>\n",
       "  <tbody>\n",
       "    <tr>\n",
       "      <th>0</th>\n",
       "      <td>1.0</td>\n",
       "      <td>0.569262</td>\n",
       "      <td>0.569262</td>\n",
       "      <td>0.569262</td>\n",
       "      <td>0.569262</td>\n",
       "      <td>0.569262</td>\n",
       "      <td>0.569262</td>\n",
       "      <td>0.569262</td>\n",
       "      <td>0.569262</td>\n",
       "      <td>0.569262</td>\n",
       "      <td>...</td>\n",
       "      <td>0.025647</td>\n",
       "      <td>0.025647</td>\n",
       "      <td>0.025647</td>\n",
       "      <td>0.025647</td>\n",
       "      <td>0.025647</td>\n",
       "      <td>0.050562</td>\n",
       "      <td>0.050562</td>\n",
       "      <td>0.050562</td>\n",
       "      <td>0.050562</td>\n",
       "      <td>1.0</td>\n",
       "    </tr>\n",
       "  </tbody>\n",
       "</table>\n",
       "<p>1 rows × 970 columns</p>\n",
       "</div>"
      ],
      "text/plain": [
       "    Id  L0_S0_F0  L0_S0_F2  L0_S0_F4  L0_S0_F6  L0_S0_F8  L0_S0_F10  \\\n",
       "0  1.0  0.569262  0.569262  0.569262  0.569262  0.569262   0.569262   \n",
       "\n",
       "   L0_S0_F12  L0_S0_F14  L0_S0_F16    ...     L3_S50_F4245  L3_S50_F4247  \\\n",
       "0   0.569262   0.569262   0.569262    ...         0.025647      0.025647   \n",
       "\n",
       "   L3_S50_F4249  L3_S50_F4251  L3_S50_F4253  L3_S51_F4256  L3_S51_F4258  \\\n",
       "0      0.025647      0.025647      0.025647      0.050562      0.050562   \n",
       "\n",
       "   L3_S51_F4260  L3_S51_F4262  Response  \n",
       "0      0.050562      0.050562       1.0  \n",
       "\n",
       "[1 rows x 970 columns]"
      ]
     },
     "execution_count": 13,
     "metadata": {},
     "output_type": "execute_result"
    }
   ],
   "source": [
    "counts_by_col.limit(10).toPandas()"
   ]
  },
  {
   "cell_type": "code",
   "execution_count": 14,
   "metadata": {
    "collapsed": true,
    "deletable": true,
    "editable": true
   },
   "outputs": [],
   "source": [
    "counts_by_col_l = counts_by_col.collect()"
   ]
  },
  {
   "cell_type": "code",
   "execution_count": 45,
   "metadata": {
    "collapsed": false,
    "deletable": true,
    "editable": true
   },
   "outputs": [
    {
     "data": {
      "image/png": "[encoded data removed]",
      "text/plain": [
       "<matplotlib.figure.Figure at 0x7fac63c96d10>"
      ]
     },
     "metadata": {},
     "output_type": "display_data"
    }
   ],
   "source": [
    "plt_hist(counts_by_col_l)"
   ]
  },
  {
   "cell_type": "code",
   "execution_count": 17,
   "metadata": {
    "collapsed": true,
    "deletable": true,
    "editable": true
   },
   "outputs": [],
   "source": [
    "col_with_resp = df2.filter(df2.Response == 1 ).select(*[(F.count(c) / F.count(\"*\")).alias(c) for c in df2.columns])"
   ]
  },
  {
   "cell_type": "code",
   "execution_count": 18,
   "metadata": {
    "collapsed": false,
    "deletable": true,
    "editable": true
   },
   "outputs": [
    {
     "data": {
      "text/html": [
       "<div>\n",
       "<table border=\"1\" class=\"dataframe\">\n",
       "  <thead>\n",
       "    <tr style=\"text-align: right;\">\n",
       "      <th></th>\n",
       "      <th>Id</th>\n",
       "      <th>L0_S0_F0</th>\n",
       "      <th>L0_S0_F2</th>\n",
       "      <th>L0_S0_F4</th>\n",
       "      <th>L0_S0_F6</th>\n",
       "      <th>L0_S0_F8</th>\n",
       "      <th>L0_S0_F10</th>\n",
       "      <th>L0_S0_F12</th>\n",
       "      <th>L0_S0_F14</th>\n",
       "      <th>L0_S0_F16</th>\n",
       "      <th>...</th>\n",
       "      <th>L3_S50_F4245</th>\n",
       "      <th>L3_S50_F4247</th>\n",
       "      <th>L3_S50_F4249</th>\n",
       "      <th>L3_S50_F4251</th>\n",
       "      <th>L3_S50_F4253</th>\n",
       "      <th>L3_S51_F4256</th>\n",
       "      <th>L3_S51_F4258</th>\n",
       "      <th>L3_S51_F4260</th>\n",
       "      <th>L3_S51_F4262</th>\n",
       "      <th>Response</th>\n",
       "    </tr>\n",
       "  </thead>\n",
       "  <tbody>\n",
       "    <tr>\n",
       "      <th>0</th>\n",
       "      <td>1.0</td>\n",
       "      <td>0.524495</td>\n",
       "      <td>0.524495</td>\n",
       "      <td>0.524495</td>\n",
       "      <td>0.524495</td>\n",
       "      <td>0.524495</td>\n",
       "      <td>0.524495</td>\n",
       "      <td>0.524495</td>\n",
       "      <td>0.524495</td>\n",
       "      <td>0.524495</td>\n",
       "      <td>...</td>\n",
       "      <td>0.022968</td>\n",
       "      <td>0.022968</td>\n",
       "      <td>0.022968</td>\n",
       "      <td>0.022968</td>\n",
       "      <td>0.022968</td>\n",
       "      <td>0.043902</td>\n",
       "      <td>0.043902</td>\n",
       "      <td>0.043902</td>\n",
       "      <td>0.043902</td>\n",
       "      <td>1.0</td>\n",
       "    </tr>\n",
       "  </tbody>\n",
       "</table>\n",
       "<p>1 rows × 970 columns</p>\n",
       "</div>"
      ],
      "text/plain": [
       "    Id  L0_S0_F0  L0_S0_F2  L0_S0_F4  L0_S0_F6  L0_S0_F8  L0_S0_F10  \\\n",
       "0  1.0  0.524495  0.524495  0.524495  0.524495  0.524495   0.524495   \n",
       "\n",
       "   L0_S0_F12  L0_S0_F14  L0_S0_F16    ...     L3_S50_F4245  L3_S50_F4247  \\\n",
       "0   0.524495   0.524495   0.524495    ...         0.022968      0.022968   \n",
       "\n",
       "   L3_S50_F4249  L3_S50_F4251  L3_S50_F4253  L3_S51_F4256  L3_S51_F4258  \\\n",
       "0      0.022968      0.022968      0.022968      0.043902      0.043902   \n",
       "\n",
       "   L3_S51_F4260  L3_S51_F4262  Response  \n",
       "0      0.043902      0.043902       1.0  \n",
       "\n",
       "[1 rows x 970 columns]"
      ]
     },
     "execution_count": 18,
     "metadata": {},
     "output_type": "execute_result"
    }
   ],
   "source": [
    "col_with_resp.limit(100).toPandas()"
   ]
  },
  {
   "cell_type": "code",
   "execution_count": 19,
   "metadata": {
    "collapsed": false,
    "deletable": true,
    "editable": true
   },
   "outputs": [],
   "source": [
    "col_with_resp_l = col_with_resp.collect()"
   ]
  },
  {
   "cell_type": "code",
   "execution_count": 20,
   "metadata": {
    "collapsed": false,
    "deletable": true,
    "editable": true
   },
   "outputs": [
    {
     "data": {
      "image/png": "[encoded data removed]",
      "text/plain": [
       "<matplotlib.figure.Figure at 0x7fac68db4950>"
      ]
     },
     "metadata": {},
     "output_type": "display_data"
    }
   ],
   "source": [
    "plt_hist(col_with_resp_l)"
   ]
  },
  {
   "cell_type": "code",
   "execution_count": null,
   "metadata": {
    "collapsed": false,
    "deletable": true,
    "editable": true
   },
   "outputs": [],
   "source": []
  },
  {
   "cell_type": "code",
   "execution_count": 47,
   "metadata": {
    "collapsed": true
   },
   "outputs": [],
   "source": [
    "counts_by_col = df3.select(*[(F.count(c) / F.count(\"*\")).alias(c) for c in df3.columns])"
   ]
  },
  {
   "cell_type": "code",
   "execution_count": 48,
   "metadata": {
    "collapsed": false
   },
   "outputs": [
    {
     "data": {
      "text/html": [
       "<div>\n",
       "<table border=\"1\" class=\"dataframe\">\n",
       "  <thead>\n",
       "    <tr style=\"text-align: right;\">\n",
       "      <th></th>\n",
       "      <th>Id</th>\n",
       "      <th>L0_S0_D1</th>\n",
       "      <th>L0_S0_D3</th>\n",
       "      <th>L0_S0_D5</th>\n",
       "      <th>L0_S0_D7</th>\n",
       "      <th>L0_S0_D9</th>\n",
       "      <th>L0_S0_D11</th>\n",
       "      <th>L0_S0_D13</th>\n",
       "      <th>L0_S0_D15</th>\n",
       "      <th>L0_S0_D17</th>\n",
       "      <th>...</th>\n",
       "      <th>L3_S50_D4246</th>\n",
       "      <th>L3_S50_D4248</th>\n",
       "      <th>L3_S50_D4250</th>\n",
       "      <th>L3_S50_D4252</th>\n",
       "      <th>L3_S50_D4254</th>\n",
       "      <th>L3_S51_D4255</th>\n",
       "      <th>L3_S51_D4257</th>\n",
       "      <th>L3_S51_D4259</th>\n",
       "      <th>L3_S51_D4261</th>\n",
       "      <th>L3_S51_D4263</th>\n",
       "    </tr>\n",
       "  </thead>\n",
       "  <tbody>\n",
       "    <tr>\n",
       "      <th>0</th>\n",
       "      <td>1.0</td>\n",
       "      <td>0.569262</td>\n",
       "      <td>0.569262</td>\n",
       "      <td>0.569262</td>\n",
       "      <td>0.569262</td>\n",
       "      <td>0.569262</td>\n",
       "      <td>0.569262</td>\n",
       "      <td>0.569262</td>\n",
       "      <td>0.569262</td>\n",
       "      <td>0.569262</td>\n",
       "      <td>...</td>\n",
       "      <td>0.025647</td>\n",
       "      <td>0.025647</td>\n",
       "      <td>0.025647</td>\n",
       "      <td>0.025647</td>\n",
       "      <td>0.025647</td>\n",
       "      <td>0.050562</td>\n",
       "      <td>0.050562</td>\n",
       "      <td>0.050562</td>\n",
       "      <td>0.050562</td>\n",
       "      <td>0.050562</td>\n",
       "    </tr>\n",
       "  </tbody>\n",
       "</table>\n",
       "<p>1 rows × 1157 columns</p>\n",
       "</div>"
      ],
      "text/plain": [
       "    Id  L0_S0_D1  L0_S0_D3  L0_S0_D5  L0_S0_D7  L0_S0_D9  L0_S0_D11  \\\n",
       "0  1.0  0.569262  0.569262  0.569262  0.569262  0.569262   0.569262   \n",
       "\n",
       "   L0_S0_D13  L0_S0_D15  L0_S0_D17      ...       L3_S50_D4246  L3_S50_D4248  \\\n",
       "0   0.569262   0.569262   0.569262      ...           0.025647      0.025647   \n",
       "\n",
       "   L3_S50_D4250  L3_S50_D4252  L3_S50_D4254  L3_S51_D4255  L3_S51_D4257  \\\n",
       "0      0.025647      0.025647      0.025647      0.050562      0.050562   \n",
       "\n",
       "   L3_S51_D4259  L3_S51_D4261  L3_S51_D4263  \n",
       "0      0.050562      0.050562      0.050562  \n",
       "\n",
       "[1 rows x 1157 columns]"
      ]
     },
     "execution_count": 48,
     "metadata": {},
     "output_type": "execute_result"
    }
   ],
   "source": [
    "counts_by_col.limit(1).toPandas()"
   ]
  },
  {
   "cell_type": "code",
   "execution_count": 49,
   "metadata": {
    "collapsed": true
   },
   "outputs": [],
   "source": [
    "counts_by_col_l3 = counts_by_col.collect()"
   ]
  },
  {
   "cell_type": "code",
   "execution_count": 50,
   "metadata": {
    "collapsed": false
   },
   "outputs": [
    {
     "data": {
      "image/png": "[encoded data removed]",
      "text/plain": [
       "<matplotlib.figure.Figure at 0x7fac68b2f890>"
      ]
     },
     "metadata": {},
     "output_type": "display_data"
    }
   ],
   "source": [
    "plt_hist(counts_by_col_l3)"
   ]
  },
  {
   "cell_type": "code",
   "execution_count": 51,
   "metadata": {
    "collapsed": true
   },
   "outputs": [],
   "source": [
    "counts_by_col4 = df4.select(*[(F.count(c) / F.count(\"*\")).alias(c) for c in df4.columns])"
   ]
  },
  {
   "cell_type": "code",
   "execution_count": 52,
   "metadata": {
    "collapsed": true
   },
   "outputs": [],
   "source": [
    "counts_by_col_l4 = counts_by_col4.collect()"
   ]
  },
  {
   "cell_type": "code",
   "execution_count": 53,
   "metadata": {
    "collapsed": false
   },
   "outputs": [
    {
     "data": {
      "image/png": "[encoded data removed]",
      "text/plain": [
       "<matplotlib.figure.Figure at 0x7fac63c4fa90>"
      ]
     },
     "metadata": {},
     "output_type": "display_data"
    }
   ],
   "source": [
    "plt_hist(counts_by_col_l4)"
   ]
  },
  {
   "cell_type": "markdown",
   "metadata": {
    "deletable": true,
    "editable": true
   },
   "source": [
    "### Creation of Models "
   ]
  },
  {
   "cell_type": "code",
   "execution_count": 156,
   "metadata": {
    "collapsed": false,
    "deletable": true,
    "editable": true
   },
   "outputs": [],
   "source": [
    "from pyspark.ml.classification import GBTClassifier\n",
    "from pyspark.ml.linalg import Vectors\n",
    "from pyspark.ml.feature import VectorAssembler"
   ]
  },
  {
   "cell_type": "code",
   "execution_count": 157,
   "metadata": {
    "collapsed": false,
    "deletable": true,
    "editable": true
   },
   "outputs": [],
   "source": [
    "features = df2.columns[1:-1]"
   ]
  },
  {
   "cell_type": "code",
   "execution_count": 158,
   "metadata": {
    "collapsed": false,
    "deletable": true,
    "editable": true
   },
   "outputs": [],
   "source": [
    "vecAssembler = VectorAssembler(inputCols=features, outputCol=\"features\")"
   ]
  },
  {
   "cell_type": "code",
   "execution_count": 159,
   "metadata": {
    "collapsed": false,
    "deletable": true,
    "editable": true
   },
   "outputs": [],
   "source": [
    "df2  = df2.na.fill(99999999)"
   ]
  },
  {
   "cell_type": "code",
   "execution_count": null,
   "metadata": {
    "collapsed": false,
    "deletable": true,
    "editable": true
   },
   "outputs": [],
   "source": [
    "%%time\n",
    "ass = vecAssembler.transform(df2)"
   ]
  },
  {
   "cell_type": "code",
   "execution_count": 161,
   "metadata": {
    "collapsed": false,
    "deletable": true,
    "editable": true
   },
   "outputs": [],
   "source": [
    "assd = ass.select(['Id','Response','features']).drop()"
   ]
  },
  {
   "cell_type": "code",
   "execution_count": 162,
   "metadata": {
    "collapsed": false,
    "deletable": true,
    "editable": true
   },
   "outputs": [
    {
     "data": {
      "text/html": [
       "<div>\n",
       "<table border=\"1\" class=\"dataframe\">\n",
       "  <thead>\n",
       "    <tr style=\"text-align: right;\">\n",
       "      <th></th>\n",
       "      <th>Id</th>\n",
       "      <th>Response</th>\n",
       "      <th>features</th>\n",
       "    </tr>\n",
       "  </thead>\n",
       "  <tbody>\n",
       "    <tr>\n",
       "      <th>0</th>\n",
       "      <td>4</td>\n",
       "      <td>0</td>\n",
       "      <td>[0.03, -0.034, -0.197, -0.179, 0.118, 0.116, -...</td>\n",
       "    </tr>\n",
       "    <tr>\n",
       "      <th>1</th>\n",
       "      <td>6</td>\n",
       "      <td>0</td>\n",
       "      <td>[99999999.0, 99999999.0, 99999999.0, 99999999....</td>\n",
       "    </tr>\n",
       "    <tr>\n",
       "      <th>2</th>\n",
       "      <td>7</td>\n",
       "      <td>0</td>\n",
       "      <td>[0.088, 0.086, 0.003, -0.052, 0.161, 0.025, -0...</td>\n",
       "    </tr>\n",
       "    <tr>\n",
       "      <th>3</th>\n",
       "      <td>9</td>\n",
       "      <td>0</td>\n",
       "      <td>[-0.036, -0.064, 0.294, 0.33, 0.074, 0.161, 0....</td>\n",
       "    </tr>\n",
       "    <tr>\n",
       "      <th>4</th>\n",
       "      <td>11</td>\n",
       "      <td>0</td>\n",
       "      <td>[-0.055, -0.086, 0.294, 0.33, 0.118, 0.025, 0....</td>\n",
       "    </tr>\n",
       "  </tbody>\n",
       "</table>\n",
       "</div>"
      ],
      "text/plain": [
       "   Id  Response                                           features\n",
       "0   4         0  [0.03, -0.034, -0.197, -0.179, 0.118, 0.116, -...\n",
       "1   6         0  [99999999.0, 99999999.0, 99999999.0, 99999999....\n",
       "2   7         0  [0.088, 0.086, 0.003, -0.052, 0.161, 0.025, -0...\n",
       "3   9         0  [-0.036, -0.064, 0.294, 0.33, 0.074, 0.161, 0....\n",
       "4  11         0  [-0.055, -0.086, 0.294, 0.33, 0.118, 0.025, 0...."
      ]
     },
     "execution_count": 162,
     "metadata": {},
     "output_type": "execute_result"
    },
    {
     "name": "stdout",
     "output_type": "stream",
     "text": [
      "root\n",
      " |-- Id: integer (nullable = true)\n",
      " |-- Response: integer (nullable = true)\n",
      " |-- features: vector (nullable = true)\n",
      "\n"
     ]
    }
   ],
   "source": [
    "assd.limit(5).toPandas()\n",
    "assd.printSchema()"
   ]
  },
  {
   "cell_type": "code",
   "execution_count": null,
   "metadata": {
    "collapsed": false,
    "deletable": true,
    "editable": true
   },
   "outputs": [],
   "source": []
  },
  {
   "cell_type": "code",
   "execution_count": 163,
   "metadata": {
    "collapsed": false,
    "deletable": true,
    "editable": true
   },
   "outputs": [],
   "source": [
    "tr_dt,tst_dt = assd.randomSplit([0.7,0.3])"
   ]
  },
  {
   "cell_type": "code",
   "execution_count": 164,
   "metadata": {
    "collapsed": false,
    "deletable": true,
    "editable": true
   },
   "outputs": [],
   "source": [
    "gbt = GBTClassifier(maxIter=5, maxDepth=2, labelCol=\"Response\", seed=42)"
   ]
  },
  {
   "cell_type": "code",
   "execution_count": null,
   "metadata": {
    "collapsed": false,
    "deletable": true,
    "editable": true
   },
   "outputs": [],
   "source": []
  },
  {
   "cell_type": "code",
   "execution_count": 165,
   "metadata": {
    "collapsed": false,
    "deletable": true,
    "editable": true
   },
   "outputs": [
    {
     "name": "stdout",
     "output_type": "stream",
     "text": [
      "CPU times: user 112 ms, sys: 36 ms, total: 148 ms\n",
      "Wall time: 16min 26s\n"
     ]
    }
   ],
   "source": [
    "%%time\n",
    "model = gbt.fit(tr_dt)"
   ]
  },
  {
   "cell_type": "code",
   "execution_count": 166,
   "metadata": {
    "collapsed": false,
    "deletable": true,
    "editable": true
   },
   "outputs": [
    {
     "data": {
      "text/plain": [
       "SparseVector(968, {341: 0.3003, 356: 0.087, 394: 0.0424, 765: 0.1811, 848: 0.215, 855: 0.041, 883: 0.1333})"
      ]
     },
     "execution_count": 166,
     "metadata": {},
     "output_type": "execute_result"
    }
   ],
   "source": [
    "model.featureImportances"
   ]
  },
  {
   "cell_type": "code",
   "execution_count": 167,
   "metadata": {
    "collapsed": false,
    "deletable": true,
    "editable": true
   },
   "outputs": [],
   "source": [
    "pr = model.transform(tst_dt)"
   ]
  },
  {
   "cell_type": "code",
   "execution_count": 169,
   "metadata": {
    "collapsed": false,
    "deletable": true,
    "editable": true
   },
   "outputs": [
    {
     "name": "stdout",
     "output_type": "stream",
     "text": [
      "+---+--------+--------------------+----------+\n",
      "| Id|Response|            features|prediction|\n",
      "+---+--------+--------------------+----------+\n",
      "|  4|       0|[0.03,-0.034,-0.1...|       0.0|\n",
      "|  6|       0|[9.9999999E7,9.99...|       0.0|\n",
      "| 14|       0|[9.9999999E7,9.99...|       0.0|\n",
      "| 47|       0|[9.9999999E7,9.99...|       0.0|\n",
      "| 52|       0|[9.9999999E7,9.99...|       0.0|\n",
      "| 55|       0|[9.9999999E7,9.99...|       0.0|\n",
      "| 71|       0|[-0.167,-0.168,0....|       0.0|\n",
      "| 78|       0|[0.101,0.108,0.00...|       0.0|\n",
      "| 79|       0|[9.9999999E7,9.99...|       0.0|\n",
      "| 81|       0|[0.036,0.078,-0.1...|       0.0|\n",
      "| 91|       0|[0.036,0.101,-0.1...|       0.0|\n",
      "| 92|       0|[0.108,0.093,-0.0...|       0.0|\n",
      "| 95|       0|[0.088,0.071,-0.0...|       0.0|\n",
      "|103|       0|[-0.055,-0.041,-0...|       0.0|\n",
      "|115|       0|[0.075,0.056,-0.1...|       0.0|\n",
      "|123|       0|[-0.023,-0.034,-0...|       0.0|\n",
      "|126|       0|[0.095,0.056,-0.1...|       0.0|\n",
      "|131|       0|[-0.003,0.041,0.3...|       0.0|\n",
      "|146|       0|[-0.036,0.011,0.2...|       0.0|\n",
      "|159|       0|[-0.049,0.011,-0....|       0.0|\n",
      "+---+--------+--------------------+----------+\n",
      "only showing top 20 rows\n",
      "\n"
     ]
    }
   ],
   "source": [
    "pr.show()"
   ]
  },
  {
   "cell_type": "code",
   "execution_count": 168,
   "metadata": {
    "collapsed": false,
    "deletable": true,
    "editable": true
   },
   "outputs": [
    {
     "name": "stdout",
     "output_type": "stream",
     "text": [
      "True Positives: 6\n",
      "True Negatives: 352534\n",
      "False Positives: 0\n",
      "False Negatives: 2040\n",
      "Matthews correlation coefficient:  0.0539970298159\n"
     ]
    }
   ],
   "source": [
    "label_pred_list = pr.select(pr['Response'],pr['prediction']).collect()\n",
    "matthews_corr_coef(label_pred_list)"
   ]
  },
  {
   "cell_type": "markdown",
   "metadata": {
    "deletable": true,
    "editable": true
   },
   "source": [
    "### Testing Models"
   ]
  },
  {
   "cell_type": "code",
   "execution_count": null,
   "metadata": {
    "collapsed": true,
    "deletable": true,
    "editable": true
   },
   "outputs": [],
   "source": []
  },
  {
   "cell_type": "markdown",
   "metadata": {
    "deletable": true,
    "editable": true
   },
   "source": [
    "### Results evaluation"
   ]
  },
  {
   "cell_type": "code",
   "execution_count": 121,
   "metadata": {
    "collapsed": false,
    "deletable": true,
    "editable": true
   },
   "outputs": [],
   "source": [
    "def matthews_corr_coef(label_pred_list): \n",
    "    \n",
    "    tp = np.sum(1 for r in label_pred_list if r[0] == 1 and r[1] == 1)\n",
    "    tn = np.sum(1 for r in label_pred_list if r[0] == 0 and r[1] == 0)\n",
    "    fp = np.sum(1 for r in label_pred_list if r[0] == 0 and r[1] == 1)\n",
    "    fn = np.sum(1 for r in label_pred_list if r[0] == 1 and r[1] == 0)\n",
    "    print \"True Positives:\", tp\n",
    "    print \"True Negatives:\", tn\n",
    "    print \"False Positives:\", fp\n",
    "    print \"False Negatives:\", fn\n",
    "    #print \"Total\", df.count()\n",
    "    try:\n",
    "        MCC = ((tp * tn) - (fp * fn)) / np.sqrt((tp + fp)*(tp + fn)*(tn + fp)*(tn + fn))\n",
    "    except ZeroDivisionError:\n",
    "        MCC = -1\n",
    "    print \"Matthews correlation coefficient: \", MCC"
   ]
  },
  {
   "cell_type": "code",
   "execution_count": 99,
   "metadata": {
    "collapsed": false,
    "deletable": true,
    "editable": true
   },
   "outputs": [],
   "source": []
  }
 ],
 "metadata": {
  "kernelspec": {
   "display_name": "Python 2",
   "language": "python",
   "name": "python2"
  },
  "language_info": {
   "codemirror_mode": {
    "name": "ipython",
    "version": 2
   },
   "file_extension": ".py",
   "mimetype": "text/x-python",
   "name": "python",
   "nbconvert_exporter": "python",
   "pygments_lexer": "ipython2",
   "version": "2.7.12"
  }
 },
 "nbformat": 4,
 "nbformat_minor": 0
}
