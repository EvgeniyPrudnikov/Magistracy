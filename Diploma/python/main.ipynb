{
 "cells": [
  {
   "cell_type": "markdown",
   "metadata": {
    "deletable": true,
    "editable": true
   },
   "source": [
    "### Enviroment preparation"
   ]
  },
  {
   "cell_type": "code",
   "execution_count": 1,
   "metadata": {
    "collapsed": false,
    "deletable": true,
    "editable": true
   },
   "outputs": [],
   "source": [
    "from pyspark import SparkContext, SparkConf\n",
    "from pyspark.sql import SQLContext, Row\n",
    "from pyspark.sql.types import *\n",
    "import pyspark.sql.functions as F \n",
    "import numpy as np\n",
    "import pandas as pd\n",
    "import random\n",
    "import time as t\n",
    "import os\n",
    "from subprocess import Popen\n",
    "import matplotlib.pyplot as plt\n",
    "%matplotlib inline"
   ]
  },
  {
   "cell_type": "code",
   "execution_count": 130,
   "metadata": {
    "collapsed": false,
    "deletable": true,
    "editable": true
   },
   "outputs": [
    {
     "name": "stdout",
     "output_type": "stream",
     "text": [
      "cluster stopped\n"
     ]
    }
   ],
   "source": [
    "ControlSparkCluster('stop')"
   ]
  },
  {
   "cell_type": "code",
   "execution_count": 3,
   "metadata": {
    "collapsed": false,
    "deletable": true,
    "editable": true
   },
   "outputs": [],
   "source": [
    "def ControlSparkCluster(action):\n",
    "    if action == 'start':\n",
    "        Popen('./start_cluster.sh',shell=True)\n",
    "        t.sleep(10)\n",
    "        print 'cluster started'\n",
    "    elif action == 'stop':\n",
    "        Popen('./stop_cluster.sh',shell=True)\n",
    "        sc.stop()\n",
    "        t.sleep(3)\n",
    "        print 'cluster stopped'\n",
    "    else:\n",
    "        raise Exception('Unsupported command!')\n",
    "    "
   ]
  },
  {
   "cell_type": "code",
   "execution_count": 4,
   "metadata": {
    "collapsed": false,
    "deletable": true,
    "editable": true
   },
   "outputs": [
    {
     "name": "stdout",
     "output_type": "stream",
     "text": [
      "cluster started\n"
     ]
    }
   ],
   "source": [
    "ControlSparkCluster('start')"
   ]
  },
  {
   "cell_type": "code",
   "execution_count": 5,
   "metadata": {
    "collapsed": false,
    "deletable": true,
    "editable": true
   },
   "outputs": [],
   "source": [
    "conf = SparkConf().setMaster(\"spark://cathome:7077\").setAppName(\"bosh\")\\\n",
    ".setAll((['spark.executor.cores','4']\n",
    "        ,['spark.driver.cores','4']\n",
    "        ,['spark.driver.memory','1g']\n",
    "        ,['spark.executor.memory','1g']\n",
    "        ,['spark.python.worker.memory','2g']\n",
    "        ,['spark.default.parallelism','4']\n",
    "       ))"
   ]
  },
  {
   "cell_type": "code",
   "execution_count": 6,
   "metadata": {
    "collapsed": false,
    "deletable": true,
    "editable": true,
    "scrolled": true
   },
   "outputs": [],
   "source": [
    "sc = SparkContext(conf=conf)\n",
    "sqlContext = SQLContext(sc)"
   ]
  },
  {
   "cell_type": "markdown",
   "metadata": {
    "collapsed": true,
    "deletable": true,
    "editable": true
   },
   "source": [
    "### Data preparation"
   ]
  },
  {
   "cell_type": "code",
   "execution_count": 7,
   "metadata": {
    "collapsed": true,
    "deletable": true,
    "editable": true
   },
   "outputs": [],
   "source": [
    "dir_name = '../../../diploma_data'"
   ]
  },
  {
   "cell_type": "code",
   "execution_count": 8,
   "metadata": {
    "collapsed": true,
    "deletable": true,
    "editable": true
   },
   "outputs": [],
   "source": [
    "tr_num_file_name = 'train_numeric.csv'\n",
    "tr_date_file_name = 'train_date.csv'\n",
    "tr_cat_file_name = 'train_categorical.csv'"
   ]
  },
  {
   "cell_type": "code",
   "execution_count": 9,
   "metadata": {
    "collapsed": false,
    "deletable": true,
    "editable": true
   },
   "outputs": [],
   "source": [
    "tr_num_data_file = '{0}/{1}'.format(dir_name,tr_num_file_name)\n",
    "tr_date_data_file = '{0}/{1}'.format(dir_name,tr_date_file_name)\n",
    "tr_cat_data_file = '{0}/{1}'.format(dir_name,tr_cat_file_name)"
   ]
  },
  {
   "cell_type": "code",
   "execution_count": 10,
   "metadata": {
    "collapsed": false,
    "deletable": true,
    "editable": true
   },
   "outputs": [
    {
     "name": "stdout",
     "output_type": "stream",
     "text": [
      "CPU times: user 52 ms, sys: 32 ms, total: 84 ms\n",
      "Wall time: 5min 15s\n"
     ]
    }
   ],
   "source": [
    "%%time\n",
    "df_num = sqlContext.read.csv(tr_num_data_file, sep=',', header=True, inferSchema=True)\n",
    "df_date = sqlContext.read.csv(tr_date_data_file, sep=',', header=True, inferSchema=True)\n",
    "df_cat = sqlContext.read.csv(tr_cat_data_file, sep=',', header=True, inferSchema=True)"
   ]
  },
  {
   "cell_type": "markdown",
   "metadata": {
    "deletable": true,
    "editable": true
   },
   "source": [
    "### Data analisys/Data transformation"
   ]
  },
  {
   "cell_type": "code",
   "execution_count": 11,
   "metadata": {
    "collapsed": false,
    "deletable": true,
    "editable": true
   },
   "outputs": [],
   "source": [
    "df_num2 = df_num\n",
    "df_date2 = df_date\n",
    "df_cat2 = df_cat"
   ]
  },
  {
   "cell_type": "code",
   "execution_count": 12,
   "metadata": {
    "collapsed": true,
    "deletable": true,
    "editable": true
   },
   "outputs": [],
   "source": [
    "def plt_hist(counts_by_col_d):\n",
    "    \n",
    "    hist_v = map(float,[v for k,v in sorted(counts_by_col_d.items())])\n",
    "    elems = list(xrange(0,len(hist_v)))     \n",
    "    plt.figure(figsize=(25,6))\n",
    "    plt.ylabel('proc')\n",
    "    plt.xlabel('col id')\n",
    "    plt.grid(True)\n",
    "    plt.xlim([-10,len(elems) + 10])\n",
    "    width = 1/1\n",
    "    #plt.xticks(elems, row_fileds)\n",
    "    plt.bar(elems, hist_v, width, color=\"blue\")"
   ]
  },
  {
   "cell_type": "code",
   "execution_count": 13,
   "metadata": {
    "collapsed": true,
    "deletable": true,
    "editable": true
   },
   "outputs": [],
   "source": [
    "def plt_pipe(counts_1_all_l):\n",
    "    \n",
    "    labels = 'Response:0', 'Response:1'\n",
    "    sizes = (counts_1_all_l['count_1'],counts_1_all_l['count_all'])\n",
    "    explode = (0.2, 0)  \n",
    "\n",
    "    fig1, ax1 = plt.subplots()\n",
    "    ax1.pie(sizes, explode=explode, labels=labels, autopct='%1.1f%%',\n",
    "            shadow=True, startangle=90)\n",
    "    ax1.axis('equal') "
   ]
  },
  {
   "cell_type": "code",
   "execution_count": null,
   "metadata": {
    "collapsed": true,
    "deletable": true,
    "editable": true
   },
   "outputs": [],
   "source": [
    "counts_1_all_l = df_num2.select(F.sum(F.when(df_num2['Response'] == 1, 1).otherwise(0)).alias('count_1') , F.count('*').alias('count_all') ).collect()"
   ]
  },
  {
   "cell_type": "code",
   "execution_count": 96,
   "metadata": {
    "collapsed": false,
    "deletable": true,
    "editable": true
   },
   "outputs": [
    {
     "data": {
      "image/png": "[encoded data removed]",
      "text/plain": [
       "<matplotlib.figure.Figure at 0x7f661d1e1310>"
      ]
     },
     "metadata": {},
     "output_type": "display_data"
    }
   ],
   "source": [
    "plt_pipe(counts_1_all_l[0].asDict())"
   ]
  },
  {
   "cell_type": "code",
   "execution_count": null,
   "metadata": {
    "collapsed": true,
    "deletable": true,
    "editable": true
   },
   "outputs": [],
   "source": []
  },
  {
   "cell_type": "code",
   "execution_count": 14,
   "metadata": {
    "collapsed": false,
    "deletable": true,
    "editable": true
   },
   "outputs": [],
   "source": [
    "counts_by_col = df_num2.select(*[(F.count(c) / F.count(\"*\")).alias(c) for c in df_num2.columns])"
   ]
  },
  {
   "cell_type": "code",
   "execution_count": null,
   "metadata": {
    "collapsed": false,
    "deletable": true,
    "editable": true
   },
   "outputs": [],
   "source": [
    "counts_by_col.limit(1).toPandas()"
   ]
  },
  {
   "cell_type": "code",
   "execution_count": 15,
   "metadata": {
    "collapsed": true,
    "deletable": true,
    "editable": true
   },
   "outputs": [],
   "source": [
    "counts_by_col_l = counts_by_col.collect()"
   ]
  },
  {
   "cell_type": "code",
   "execution_count": 106,
   "metadata": {
    "collapsed": false,
    "deletable": true,
    "editable": true
   },
   "outputs": [
    {
     "data": {
      "image/png": "[encoded data removed]",
      "text/plain": [
       "<matplotlib.figure.Figure at 0x7f661c202e90>"
      ]
     },
     "metadata": {},
     "output_type": "display_data"
    }
   ],
   "source": [
    "plt_hist(counts_by_col_l[0].asDict())"
   ]
  },
  {
   "cell_type": "code",
   "execution_count": null,
   "metadata": {
    "collapsed": true,
    "deletable": true,
    "editable": true
   },
   "outputs": [],
   "source": [
    "col_with_resp = df_num2.filter(df_num2.Response == 1 ).select(*[(F.count(c) / F.count(\"*\")).alias(c) for c in df_num2.columns])"
   ]
  },
  {
   "cell_type": "code",
   "execution_count": null,
   "metadata": {
    "collapsed": false,
    "deletable": true,
    "editable": true
   },
   "outputs": [],
   "source": [
    "col_with_resp.limit(100).toPandas()"
   ]
  },
  {
   "cell_type": "code",
   "execution_count": null,
   "metadata": {
    "collapsed": false,
    "deletable": true,
    "editable": true
   },
   "outputs": [],
   "source": [
    "col_with_resp_l = col_with_resp.collect()"
   ]
  },
  {
   "cell_type": "code",
   "execution_count": null,
   "metadata": {
    "collapsed": false,
    "deletable": true,
    "editable": true
   },
   "outputs": [],
   "source": [
    "plt_hist(col_with_resp_l[0].asDict())"
   ]
  },
  {
   "cell_type": "code",
   "execution_count": null,
   "metadata": {
    "collapsed": false,
    "deletable": true,
    "editable": true
   },
   "outputs": [],
   "source": []
  },
  {
   "cell_type": "code",
   "execution_count": 16,
   "metadata": {
    "collapsed": true,
    "deletable": true,
    "editable": true
   },
   "outputs": [],
   "source": [
    "counts_by_col3 = df_date2.select(*[(F.count(c) / F.count(\"*\")).alias(c) for c in df_date2.columns])"
   ]
  },
  {
   "cell_type": "code",
   "execution_count": null,
   "metadata": {
    "collapsed": false,
    "deletable": true,
    "editable": true
   },
   "outputs": [],
   "source": [
    "counts_by_col3.limit(1).toPandas()"
   ]
  },
  {
   "cell_type": "code",
   "execution_count": 17,
   "metadata": {
    "collapsed": true,
    "deletable": true,
    "editable": true
   },
   "outputs": [],
   "source": [
    "counts_by_col_l3 = counts_by_col3.collect()"
   ]
  },
  {
   "cell_type": "code",
   "execution_count": 117,
   "metadata": {
    "collapsed": false,
    "deletable": true,
    "editable": true
   },
   "outputs": [
    {
     "data": {
      "image/png": "[encoded data removed]",
      "text/plain": [
       "<matplotlib.figure.Figure at 0x7f661c389d10>"
      ]
     },
     "metadata": {},
     "output_type": "display_data"
    }
   ],
   "source": [
    "plt_hist(counts_by_col_l3[0].asDict())"
   ]
  },
  {
   "cell_type": "code",
   "execution_count": null,
   "metadata": {
    "collapsed": true,
    "deletable": true,
    "editable": true
   },
   "outputs": [],
   "source": []
  },
  {
   "cell_type": "code",
   "execution_count": 18,
   "metadata": {
    "collapsed": true,
    "deletable": true,
    "editable": true
   },
   "outputs": [],
   "source": [
    "counts_by_col4 = df_cat2.select(*[(F.count(c) / F.count(\"*\")).alias(c) for c in df_cat2.columns])"
   ]
  },
  {
   "cell_type": "code",
   "execution_count": 19,
   "metadata": {
    "collapsed": true,
    "deletable": true,
    "editable": true
   },
   "outputs": [],
   "source": [
    "counts_by_col_l4 = counts_by_col4.collect()"
   ]
  },
  {
   "cell_type": "code",
   "execution_count": 120,
   "metadata": {
    "collapsed": false,
    "deletable": true,
    "editable": true
   },
   "outputs": [
    {
     "data": {
      "image/png": "[encoded data removed]",
      "text/plain": [
       "<matplotlib.figure.Figure at 0x7f661c5eff90>"
      ]
     },
     "metadata": {},
     "output_type": "display_data"
    }
   ],
   "source": [
    "plt_hist(counts_by_col_l4[0].asDict())"
   ]
  },
  {
   "cell_type": "code",
   "execution_count": 20,
   "metadata": {
    "collapsed": false,
    "deletable": true,
    "editable": true
   },
   "outputs": [],
   "source": [
    "filtered_num = {k: v for k, v in counts_by_col_l[0].asDict().iteritems() if v > 0.15 }"
   ]
  },
  {
   "cell_type": "code",
   "execution_count": 110,
   "metadata": {
    "collapsed": false,
    "deletable": true,
    "editable": true
   },
   "outputs": [
    {
     "data": {
      "image/png": "[encoded data removed]",
      "text/plain": [
       "<matplotlib.figure.Figure at 0x7f66246cae10>"
      ]
     },
     "metadata": {},
     "output_type": "display_data"
    }
   ],
   "source": [
    "plt_hist(filtered_num)"
   ]
  },
  {
   "cell_type": "code",
   "execution_count": 21,
   "metadata": {
    "collapsed": false,
    "deletable": true,
    "editable": true
   },
   "outputs": [],
   "source": [
    "filtered_cat = {k: v for k, v in counts_by_col_l4[0].asDict().iteritems() if v > 0.15 }\n",
    "#filtered_cat"
   ]
  },
  {
   "cell_type": "code",
   "execution_count": 122,
   "metadata": {
    "collapsed": false,
    "deletable": true,
    "editable": true
   },
   "outputs": [
    {
     "data": {
      "image/png": "[encoded data removed]",
      "text/plain": [
       "<matplotlib.figure.Figure at 0x7f661d623610>"
      ]
     },
     "metadata": {},
     "output_type": "display_data"
    }
   ],
   "source": [
    "plt_hist(filtered_cat)"
   ]
  },
  {
   "cell_type": "code",
   "execution_count": 22,
   "metadata": {
    "collapsed": false,
    "deletable": true,
    "editable": true
   },
   "outputs": [],
   "source": [
    "filtered_date = {k: v for k, v in counts_by_col_l3[0].asDict().iteritems() if v > 0.15 }"
   ]
  },
  {
   "cell_type": "code",
   "execution_count": 124,
   "metadata": {
    "collapsed": false,
    "deletable": true,
    "editable": true
   },
   "outputs": [
    {
     "data": {
      "image/png": "[encoded data removed]",
      "text/plain": [
       "<matplotlib.figure.Figure at 0x7f6624d11e90>"
      ]
     },
     "metadata": {},
     "output_type": "display_data"
    }
   ],
   "source": [
    "plt_hist(filtered_date)"
   ]
  },
  {
   "cell_type": "code",
   "execution_count": 23,
   "metadata": {
    "collapsed": true,
    "deletable": true,
    "editable": true
   },
   "outputs": [],
   "source": [
    "flt_df_num = df_num2.select(*filtered_num.keys())\n",
    "flt_df_date = df_date2.select(*filtered_date.keys())\n",
    "flt_df_cat = df_cat2.select(*filtered_cat.keys())"
   ]
  },
  {
   "cell_type": "code",
   "execution_count": 24,
   "metadata": {
    "collapsed": true,
    "deletable": true,
    "editable": true
   },
   "outputs": [],
   "source": [
    "flt_df_num = flt_df_num.drop_duplicates()\n",
    "flt_df_date = flt_df_date.drop_duplicates()\n",
    "flt_df_cat = flt_df_cat.drop_duplicates()"
   ]
  },
  {
   "cell_type": "code",
   "execution_count": null,
   "metadata": {
    "collapsed": false,
    "deletable": true,
    "editable": true
   },
   "outputs": [],
   "source": []
  },
  {
   "cell_type": "code",
   "execution_count": 25,
   "metadata": {
    "collapsed": false,
    "deletable": true,
    "editable": true
   },
   "outputs": [],
   "source": [
    "replace_cat_vals = F.udf(lambda val: 1 if val == 'T1' else 9999999, IntegerType())\n",
    "flt_df_cat = flt_df_cat.select(flt_df_cat.Id, *[replace_cat_vals(c).alias(c) for c in flt_df_cat.columns if c != 'Id'])"
   ]
  },
  {
   "cell_type": "code",
   "execution_count": 26,
   "metadata": {
    "collapsed": false,
    "deletable": true,
    "editable": true
   },
   "outputs": [],
   "source": [
    "flt_df_num = flt_df_num.na.fill(9999999)"
   ]
  },
  {
   "cell_type": "code",
   "execution_count": 27,
   "metadata": {
    "collapsed": false,
    "deletable": true,
    "editable": true
   },
   "outputs": [],
   "source": [
    "flt_df_date = flt_df_date.na.fill(9999999)"
   ]
  },
  {
   "cell_type": "code",
   "execution_count": null,
   "metadata": {
    "collapsed": false,
    "deletable": true,
    "editable": true
   },
   "outputs": [],
   "source": []
  },
  {
   "cell_type": "code",
   "execution_count": 28,
   "metadata": {
    "collapsed": false,
    "deletable": true,
    "editable": true
   },
   "outputs": [],
   "source": [
    "full_df = flt_df_num.join(flt_df_date,flt_df_num.Id == flt_df_date.Id,'inner').drop(flt_df_date.Id)\n",
    "full_df = full_df.join(flt_df_cat,full_df.Id == flt_df_cat.Id, 'inner').drop(flt_df_cat.Id)"
   ]
  },
  {
   "cell_type": "code",
   "execution_count": 29,
   "metadata": {
    "collapsed": false,
    "deletable": true,
    "editable": true
   },
   "outputs": [],
   "source": [
    "full_df.write.csv('{0}/{1}'.format(dir_name,'full_df.csv'),sep=',',header=True,quote='')"
   ]
  },
  {
   "cell_type": "code",
   "execution_count": 31,
   "metadata": {
    "collapsed": false,
    "deletable": true,
    "editable": true
   },
   "outputs": [],
   "source": [
    "full_df2 = sqlContext.read.csv('{0}/{1}'.format(dir_name,'full_df.csv'), sep=',', header=True, inferSchema=True)"
   ]
  },
  {
   "cell_type": "markdown",
   "metadata": {
    "deletable": true,
    "editable": true
   },
   "source": [
    "### Creation of Models "
   ]
  },
  {
   "cell_type": "code",
   "execution_count": 32,
   "metadata": {
    "collapsed": true,
    "deletable": true,
    "editable": true
   },
   "outputs": [],
   "source": [
    "full_df3 = full_df2"
   ]
  },
  {
   "cell_type": "code",
   "execution_count": null,
   "metadata": {
    "collapsed": false,
    "deletable": true,
    "editable": true
   },
   "outputs": [],
   "source": []
  },
  {
   "cell_type": "code",
   "execution_count": 87,
   "metadata": {
    "collapsed": false,
    "deletable": true,
    "editable": true
   },
   "outputs": [],
   "source": [
    "from pyspark.ml.classification import GBTClassifier,RandomForestClassifier\n",
    "from pyspark.ml.pipeline import Pipeline\n",
    "from pyspark.ml.linalg import Vectors\n",
    "from pyspark.ml.feature import VectorAssembler,PCA"
   ]
  },
  {
   "cell_type": "code",
   "execution_count": 35,
   "metadata": {
    "collapsed": false,
    "deletable": true,
    "editable": true
   },
   "outputs": [],
   "source": [
    "features = [c for c in full_df3.columns if c != 'Id' and c != 'Response']"
   ]
  },
  {
   "cell_type": "code",
   "execution_count": null,
   "metadata": {
    "collapsed": false,
    "deletable": true,
    "editable": true
   },
   "outputs": [],
   "source": []
  },
  {
   "cell_type": "code",
   "execution_count": 36,
   "metadata": {
    "collapsed": false,
    "deletable": true,
    "editable": true
   },
   "outputs": [],
   "source": [
    "vecAssembler = VectorAssembler(inputCols=features, outputCol=\"features\")"
   ]
  },
  {
   "cell_type": "code",
   "execution_count": null,
   "metadata": {
    "collapsed": false,
    "deletable": true,
    "editable": true
   },
   "outputs": [],
   "source": []
  },
  {
   "cell_type": "code",
   "execution_count": 37,
   "metadata": {
    "collapsed": false,
    "deletable": true,
    "editable": true
   },
   "outputs": [
    {
     "name": "stdout",
     "output_type": "stream",
     "text": [
      "CPU times: user 44 ms, sys: 16 ms, total: 60 ms\n",
      "Wall time: 1.04 s\n"
     ]
    }
   ],
   "source": [
    "%%time\n",
    "ass = vecAssembler.transform(full_df3)"
   ]
  },
  {
   "cell_type": "code",
   "execution_count": 38,
   "metadata": {
    "collapsed": false,
    "deletable": true,
    "editable": true
   },
   "outputs": [],
   "source": [
    "assd = ass.select(['Id','Response','features']).drop()"
   ]
  },
  {
   "cell_type": "code",
   "execution_count": 39,
   "metadata": {
    "collapsed": false,
    "deletable": true,
    "editable": true
   },
   "outputs": [
    {
     "data": {
      "text/html": [
       "<div>\n",
       "<table border=\"1\" class=\"dataframe\">\n",
       "  <thead>\n",
       "    <tr style=\"text-align: right;\">\n",
       "      <th></th>\n",
       "      <th>Id</th>\n",
       "      <th>Response</th>\n",
       "      <th>features</th>\n",
       "    </tr>\n",
       "  </thead>\n",
       "  <tbody>\n",
       "    <tr>\n",
       "      <th>0</th>\n",
       "      <td>616</td>\n",
       "      <td>0</td>\n",
       "      <td>[9999999.0, 9999999.0, 0.0, 9999999.0, 0.071, ...</td>\n",
       "    </tr>\n",
       "    <tr>\n",
       "      <th>1</th>\n",
       "      <td>632</td>\n",
       "      <td>0</td>\n",
       "      <td>[9999999.0, 9999999.0, 0.0, 9999999.0, -0.003,...</td>\n",
       "    </tr>\n",
       "    <tr>\n",
       "      <th>2</th>\n",
       "      <td>681</td>\n",
       "      <td>0</td>\n",
       "      <td>[9999999.0, 9999999.0, 9999999.0, 9999999.0, 9...</td>\n",
       "    </tr>\n",
       "    <tr>\n",
       "      <th>3</th>\n",
       "      <td>1392</td>\n",
       "      <td>0</td>\n",
       "      <td>[9999999.0, 9999999.0, 0.0, 9999999.0, -0.041,...</td>\n",
       "    </tr>\n",
       "    <tr>\n",
       "      <th>4</th>\n",
       "      <td>1526</td>\n",
       "      <td>0</td>\n",
       "      <td>[9999999.0, -0.06, 0.0, -0.048, 0.071, 0.0, 99...</td>\n",
       "    </tr>\n",
       "  </tbody>\n",
       "</table>\n",
       "</div>"
      ],
      "text/plain": [
       "     Id  Response                                           features\n",
       "0   616         0  [9999999.0, 9999999.0, 0.0, 9999999.0, 0.071, ...\n",
       "1   632         0  [9999999.0, 9999999.0, 0.0, 9999999.0, -0.003,...\n",
       "2   681         0  [9999999.0, 9999999.0, 9999999.0, 9999999.0, 9...\n",
       "3  1392         0  [9999999.0, 9999999.0, 0.0, 9999999.0, -0.041,...\n",
       "4  1526         0  [9999999.0, -0.06, 0.0, -0.048, 0.071, 0.0, 99..."
      ]
     },
     "execution_count": 39,
     "metadata": {},
     "output_type": "execute_result"
    }
   ],
   "source": [
    "assd.limit(5).toPandas()\n",
    "#assd.printSchema()"
   ]
  },
  {
   "cell_type": "code",
   "execution_count": 89,
   "metadata": {
    "collapsed": false
   },
   "outputs": [],
   "source": [
    "selector = PCA(inputCol=\"features\",outputCol=\"pca_features\",k=150)\n",
    "selectorModel = selector.fit(assd)"
   ]
  },
  {
   "cell_type": "code",
   "execution_count": 95,
   "metadata": {
    "collapsed": false
   },
   "outputs": [],
   "source": [
    "assd_pca = selectorModel.transform(assd)"
   ]
  },
  {
   "cell_type": "code",
   "execution_count": 96,
   "metadata": {
    "collapsed": false
   },
   "outputs": [],
   "source": [
    "assd_pca = assd_pca.select(assd_pca.Id,assd_pca.Response,assd_pca.pca_features.alias('features'))"
   ]
  },
  {
   "cell_type": "code",
   "execution_count": 97,
   "metadata": {
    "collapsed": false
   },
   "outputs": [
    {
     "data": {
      "text/html": [
       "<div>\n",
       "<table border=\"1\" class=\"dataframe\">\n",
       "  <thead>\n",
       "    <tr style=\"text-align: right;\">\n",
       "      <th></th>\n",
       "      <th>Id</th>\n",
       "      <th>Response</th>\n",
       "      <th>features</th>\n",
       "    </tr>\n",
       "  </thead>\n",
       "  <tbody>\n",
       "    <tr>\n",
       "      <th>0</th>\n",
       "      <td>616</td>\n",
       "      <td>0</td>\n",
       "      <td>[-14800141.0267, -11850196.7376, -15041527.337...</td>\n",
       "    </tr>\n",
       "    <tr>\n",
       "      <th>1</th>\n",
       "      <td>632</td>\n",
       "      <td>0</td>\n",
       "      <td>[-60212203.2331, -1938971.22418, -62560141.312...</td>\n",
       "    </tr>\n",
       "    <tr>\n",
       "      <th>2</th>\n",
       "      <td>681</td>\n",
       "      <td>0</td>\n",
       "      <td>[-185774626.071, 34756944.3064, 6541367.92099,...</td>\n",
       "    </tr>\n",
       "    <tr>\n",
       "      <th>3</th>\n",
       "      <td>1392</td>\n",
       "      <td>0</td>\n",
       "      <td>[-14638198.0166, -11615436.458, -14983852.8253...</td>\n",
       "    </tr>\n",
       "    <tr>\n",
       "      <th>4</th>\n",
       "      <td>1526</td>\n",
       "      <td>0</td>\n",
       "      <td>[-55103249.0212, 1036295.53263, 41394941.224, ...</td>\n",
       "    </tr>\n",
       "    <tr>\n",
       "      <th>5</th>\n",
       "      <td>2063</td>\n",
       "      <td>0</td>\n",
       "      <td>[-54752882.5812, 1278373.30855, 41453234.3806,...</td>\n",
       "    </tr>\n",
       "    <tr>\n",
       "      <th>6</th>\n",
       "      <td>2423</td>\n",
       "      <td>0</td>\n",
       "      <td>[-88364506.52, 94931875.8661, -25848100.0669, ...</td>\n",
       "    </tr>\n",
       "    <tr>\n",
       "      <th>7</th>\n",
       "      <td>2621</td>\n",
       "      <td>0</td>\n",
       "      <td>[21750591.8206, 79928918.9989, 575880.453382, ...</td>\n",
       "    </tr>\n",
       "    <tr>\n",
       "      <th>8</th>\n",
       "      <td>3464</td>\n",
       "      <td>0</td>\n",
       "      <td>[21574524.0218, 79897548.2899, 617134.480183, ...</td>\n",
       "    </tr>\n",
       "    <tr>\n",
       "      <th>9</th>\n",
       "      <td>3554</td>\n",
       "      <td>0</td>\n",
       "      <td>[-60363752.6437, -1971104.02712, -62507128.792...</td>\n",
       "    </tr>\n",
       "  </tbody>\n",
       "</table>\n",
       "</div>"
      ],
      "text/plain": [
       "     Id  Response                                           features\n",
       "0   616         0  [-14800141.0267, -11850196.7376, -15041527.337...\n",
       "1   632         0  [-60212203.2331, -1938971.22418, -62560141.312...\n",
       "2   681         0  [-185774626.071, 34756944.3064, 6541367.92099,...\n",
       "3  1392         0  [-14638198.0166, -11615436.458, -14983852.8253...\n",
       "4  1526         0  [-55103249.0212, 1036295.53263, 41394941.224, ...\n",
       "5  2063         0  [-54752882.5812, 1278373.30855, 41453234.3806,...\n",
       "6  2423         0  [-88364506.52, 94931875.8661, -25848100.0669, ...\n",
       "7  2621         0  [21750591.8206, 79928918.9989, 575880.453382, ...\n",
       "8  3464         0  [21574524.0218, 79897548.2899, 617134.480183, ...\n",
       "9  3554         0  [-60363752.6437, -1971104.02712, -62507128.792..."
      ]
     },
     "execution_count": 97,
     "metadata": {},
     "output_type": "execute_result"
    }
   ],
   "source": [
    "assd_pca.limit(10).toPandas()"
   ]
  },
  {
   "cell_type": "code",
   "execution_count": 114,
   "metadata": {
    "collapsed": false,
    "deletable": true,
    "editable": true
   },
   "outputs": [],
   "source": [
    "assd0 = assd_pca.filter(assd.Response == 0).sample(False, 0.006,43)\n"
   ]
  },
  {
   "cell_type": "code",
   "execution_count": 115,
   "metadata": {
    "collapsed": false,
    "deletable": true,
    "editable": true
   },
   "outputs": [],
   "source": [
    "assd1 = assd_pca.filter(assd.Response == 1)"
   ]
  },
  {
   "cell_type": "code",
   "execution_count": 116,
   "metadata": {
    "collapsed": false,
    "deletable": true,
    "editable": true
   },
   "outputs": [],
   "source": [
    "assd_n = assd0.union(assd1)"
   ]
  },
  {
   "cell_type": "code",
   "execution_count": 117,
   "metadata": {
    "collapsed": false
   },
   "outputs": [
    {
     "data": {
      "text/html": [
       "<div>\n",
       "<table border=\"1\" class=\"dataframe\">\n",
       "  <thead>\n",
       "    <tr style=\"text-align: right;\">\n",
       "      <th></th>\n",
       "      <th>Id</th>\n",
       "      <th>Response</th>\n",
       "      <th>features</th>\n",
       "    </tr>\n",
       "  </thead>\n",
       "  <tbody>\n",
       "    <tr>\n",
       "      <th>0</th>\n",
       "      <td>616</td>\n",
       "      <td>0</td>\n",
       "      <td>[-14800141.0267, -11850196.7376, -15041527.337...</td>\n",
       "    </tr>\n",
       "    <tr>\n",
       "      <th>1</th>\n",
       "      <td>632</td>\n",
       "      <td>0</td>\n",
       "      <td>[-60212203.2331, -1938971.22418, -62560141.312...</td>\n",
       "    </tr>\n",
       "    <tr>\n",
       "      <th>2</th>\n",
       "      <td>681</td>\n",
       "      <td>0</td>\n",
       "      <td>[-185774626.071, 34756944.3064, 6541367.92099,...</td>\n",
       "    </tr>\n",
       "    <tr>\n",
       "      <th>3</th>\n",
       "      <td>1392</td>\n",
       "      <td>0</td>\n",
       "      <td>[-14638198.0166, -11615436.458, -14983852.8253...</td>\n",
       "    </tr>\n",
       "    <tr>\n",
       "      <th>4</th>\n",
       "      <td>1526</td>\n",
       "      <td>0</td>\n",
       "      <td>[-55103249.0212, 1036295.53263, 41394941.224, ...</td>\n",
       "    </tr>\n",
       "    <tr>\n",
       "      <th>5</th>\n",
       "      <td>2063</td>\n",
       "      <td>0</td>\n",
       "      <td>[-54752882.5812, 1278373.30855, 41453234.3806,...</td>\n",
       "    </tr>\n",
       "    <tr>\n",
       "      <th>6</th>\n",
       "      <td>2423</td>\n",
       "      <td>0</td>\n",
       "      <td>[-88364506.52, 94931875.8661, -25848100.0669, ...</td>\n",
       "    </tr>\n",
       "    <tr>\n",
       "      <th>7</th>\n",
       "      <td>2621</td>\n",
       "      <td>0</td>\n",
       "      <td>[21750591.8206, 79928918.9989, 575880.453382, ...</td>\n",
       "    </tr>\n",
       "    <tr>\n",
       "      <th>8</th>\n",
       "      <td>3464</td>\n",
       "      <td>0</td>\n",
       "      <td>[21574524.0218, 79897548.2899, 617134.480183, ...</td>\n",
       "    </tr>\n",
       "    <tr>\n",
       "      <th>9</th>\n",
       "      <td>3554</td>\n",
       "      <td>0</td>\n",
       "      <td>[-60363752.6437, -1971104.02712, -62507128.792...</td>\n",
       "    </tr>\n",
       "  </tbody>\n",
       "</table>\n",
       "</div>"
      ],
      "text/plain": [
       "     Id  Response                                           features\n",
       "0   616         0  [-14800141.0267, -11850196.7376, -15041527.337...\n",
       "1   632         0  [-60212203.2331, -1938971.22418, -62560141.312...\n",
       "2   681         0  [-185774626.071, 34756944.3064, 6541367.92099,...\n",
       "3  1392         0  [-14638198.0166, -11615436.458, -14983852.8253...\n",
       "4  1526         0  [-55103249.0212, 1036295.53263, 41394941.224, ...\n",
       "5  2063         0  [-54752882.5812, 1278373.30855, 41453234.3806,...\n",
       "6  2423         0  [-88364506.52, 94931875.8661, -25848100.0669, ...\n",
       "7  2621         0  [21750591.8206, 79928918.9989, 575880.453382, ...\n",
       "8  3464         0  [21574524.0218, 79897548.2899, 617134.480183, ...\n",
       "9  3554         0  [-60363752.6437, -1971104.02712, -62507128.792..."
      ]
     },
     "execution_count": 117,
     "metadata": {},
     "output_type": "execute_result"
    }
   ],
   "source": [
    "assd_pca.limit(10).toPandas()"
   ]
  },
  {
   "cell_type": "code",
   "execution_count": 118,
   "metadata": {
    "collapsed": false,
    "deletable": true,
    "editable": true
   },
   "outputs": [],
   "source": [
    "tr_dt,tst_dt = assd_pca.randomSplit([0.7,0.3])"
   ]
  },
  {
   "cell_type": "code",
   "execution_count": 119,
   "metadata": {
    "collapsed": false,
    "deletable": true,
    "editable": true
   },
   "outputs": [],
   "source": [
    "rfc = RandomForestClassifier(numTrees=50, maxDepth=5, labelCol=\"Response\", seed=201)"
   ]
  },
  {
   "cell_type": "code",
   "execution_count": 125,
   "metadata": {
    "collapsed": false,
    "deletable": true,
    "editable": true
   },
   "outputs": [
    {
     "name": "stdout",
     "output_type": "stream",
     "text": [
      "+----+--------+--------------------+\n",
      "|  Id|Response|            features|\n",
      "+----+--------+--------------------+\n",
      "| 221|       0|[-4.2616456197303...|\n",
      "| 662|       0|[-2484159.9136024...|\n",
      "| 835|       0|[-4.2615926488981...|\n",
      "|1222|       0|[-1.4813420789474...|\n",
      "|1225|       0|[-4.2791575362666...|\n",
      "|1237|       0|[-1.8386202558379...|\n",
      "|1392|       0|[-1.4638198016554...|\n",
      "|1895|       0|[-6.0360067469398...|\n",
      "|2063|       0|[-5.4752882581227...|\n",
      "|2131|       0|[-1.8562938191507...|\n",
      "|2184|       0|[-1.4804746431321...|\n",
      "|2421|       0|[2.17475455652968...|\n",
      "|2423|       0|[-8.8364506519994...|\n",
      "|2621|       0|[2.17505918205811...|\n",
      "|2891|       0|[-4.2797199445829...|\n",
      "|2984|       0|[-1.8564875119256...|\n",
      "|2987|       0|[-5.4890358987665...|\n",
      "|3082|       0|[-4.2793724474984...|\n",
      "|3181|       0|[-5.4936057598429...|\n",
      "|3345|       0|[-5.4953494453717...|\n",
      "+----+--------+--------------------+\n",
      "only showing top 20 rows\n",
      "\n"
     ]
    }
   ],
   "source": [
    "tr_dt.show()"
   ]
  },
  {
   "cell_type": "code",
   "execution_count": 120,
   "metadata": {
    "collapsed": false,
    "deletable": true,
    "editable": true
   },
   "outputs": [
    {
     "name": "stdout",
     "output_type": "stream",
     "text": [
      "CPU times: user 120 ms, sys: 8 ms, total: 128 ms\n",
      "Wall time: 17min 14s\n"
     ]
    }
   ],
   "source": [
    "%%time\n",
    "model = rfc.fit(tr_dt)"
   ]
  },
  {
   "cell_type": "code",
   "execution_count": null,
   "metadata": {
    "collapsed": false,
    "deletable": true,
    "editable": true
   },
   "outputs": [],
   "source": []
  },
  {
   "cell_type": "code",
   "execution_count": 60,
   "metadata": {
    "collapsed": false,
    "deletable": true,
    "editable": true
   },
   "outputs": [
    {
     "data": {
      "text/plain": [
       "[(364, 0.080267763500573408),\n",
       " (262, 0.069949887230022031),\n",
       " (115, 0.053014215830289868),\n",
       " (52, 0.043871341695302407),\n",
       " (87, 0.041532406895582907),\n",
       " (319, 0.041247726876347292),\n",
       " (136, 0.040613562023527415),\n",
       " (191, 0.032540378309814093),\n",
       " (292, 0.030011212629576345),\n",
       " (65, 0.028618167872538562),\n",
       " (88, 0.027745305876811264),\n",
       " (211, 0.027658978549798312),\n",
       " (209, 0.025916674650908883),\n",
       " (46, 0.024709042362487145),\n",
       " (202, 0.024681375148027231),\n",
       " (95, 0.023800403087806121),\n",
       " (237, 0.021274106213524168),\n",
       " (98, 0.020735794875357795),\n",
       " (86, 0.019340084386997327),\n",
       " (239, 0.018645568324960279),\n",
       " (147, 0.018303068476105213),\n",
       " (199, 0.017624475104911955),\n",
       " (220, 0.015267234878887537),\n",
       " (201, 0.015129852220690052),\n",
       " (230, 0.01437355179496767),\n",
       " (7, 0.014180281607633615),\n",
       " (155, 0.014134699071071588),\n",
       " (58, 0.013470269195850095),\n",
       " (20, 0.013443302850563903),\n",
       " (29, 0.012851967770313071),\n",
       " (159, 0.012233768998858002),\n",
       " (157, 0.011843588951752537),\n",
       " (45, 0.011717003135869854),\n",
       " (268, 0.011412474023931586),\n",
       " (85, 0.011339615111764243),\n",
       " (228, 0.010839300083652548),\n",
       " (2, 0.010754053630646463),\n",
       " (55, 0.010626673453235978),\n",
       " (51, 0.01003185654847699),\n",
       " (207, 0.0096442311488954477),\n",
       " (103, 0.0093514236880238143),\n",
       " (1, 0.0090961731683456212),\n",
       " (462, 0.0085674790410891835),\n",
       " (204, 0.0082522313312499498),\n",
       " (125, 0.007926059302151579),\n",
       " (150, 0.0010228334894877692),\n",
       " (260, 0.0003885355813210362),\n",
       " (0, 0.0),\n",
       " (3, 0.0),\n",
       " (4, 0.0),\n",
       " (5, 0.0),\n",
       " (6, 0.0),\n",
       " (8, 0.0),\n",
       " (9, 0.0),\n",
       " (10, 0.0),\n",
       " (11, 0.0),\n",
       " (12, 0.0),\n",
       " (13, 0.0),\n",
       " (14, 0.0),\n",
       " (15, 0.0),\n",
       " (16, 0.0),\n",
       " (17, 0.0),\n",
       " (18, 0.0),\n",
       " (19, 0.0),\n",
       " (21, 0.0),\n",
       " (22, 0.0),\n",
       " (23, 0.0),\n",
       " (24, 0.0),\n",
       " (25, 0.0),\n",
       " (26, 0.0),\n",
       " (27, 0.0),\n",
       " (28, 0.0),\n",
       " (30, 0.0),\n",
       " (31, 0.0),\n",
       " (32, 0.0),\n",
       " (33, 0.0),\n",
       " (34, 0.0),\n",
       " (35, 0.0),\n",
       " (36, 0.0),\n",
       " (37, 0.0),\n",
       " (38, 0.0),\n",
       " (39, 0.0),\n",
       " (40, 0.0),\n",
       " (41, 0.0),\n",
       " (42, 0.0),\n",
       " (43, 0.0),\n",
       " (44, 0.0),\n",
       " (47, 0.0),\n",
       " (48, 0.0),\n",
       " (49, 0.0),\n",
       " (50, 0.0),\n",
       " (53, 0.0),\n",
       " (54, 0.0),\n",
       " (56, 0.0),\n",
       " (57, 0.0),\n",
       " (59, 0.0),\n",
       " (60, 0.0),\n",
       " (61, 0.0),\n",
       " (62, 0.0),\n",
       " (63, 0.0),\n",
       " (64, 0.0),\n",
       " (66, 0.0),\n",
       " (67, 0.0),\n",
       " (68, 0.0),\n",
       " (69, 0.0),\n",
       " (70, 0.0),\n",
       " (71, 0.0),\n",
       " (72, 0.0),\n",
       " (73, 0.0),\n",
       " (74, 0.0),\n",
       " (75, 0.0),\n",
       " (76, 0.0),\n",
       " (77, 0.0),\n",
       " (78, 0.0),\n",
       " (79, 0.0),\n",
       " (80, 0.0),\n",
       " (81, 0.0),\n",
       " (82, 0.0),\n",
       " (83, 0.0),\n",
       " (84, 0.0),\n",
       " (89, 0.0),\n",
       " (90, 0.0),\n",
       " (91, 0.0),\n",
       " (92, 0.0),\n",
       " (93, 0.0),\n",
       " (94, 0.0),\n",
       " (96, 0.0),\n",
       " (97, 0.0),\n",
       " (99, 0.0),\n",
       " (100, 0.0),\n",
       " (101, 0.0),\n",
       " (102, 0.0),\n",
       " (104, 0.0),\n",
       " (105, 0.0),\n",
       " (106, 0.0),\n",
       " (107, 0.0),\n",
       " (108, 0.0),\n",
       " (109, 0.0),\n",
       " (110, 0.0),\n",
       " (111, 0.0),\n",
       " (112, 0.0),\n",
       " (113, 0.0),\n",
       " (114, 0.0),\n",
       " (116, 0.0),\n",
       " (117, 0.0),\n",
       " (118, 0.0),\n",
       " (119, 0.0),\n",
       " (120, 0.0),\n",
       " (121, 0.0),\n",
       " (122, 0.0),\n",
       " (123, 0.0),\n",
       " (124, 0.0),\n",
       " (126, 0.0),\n",
       " (127, 0.0),\n",
       " (128, 0.0),\n",
       " (129, 0.0),\n",
       " (130, 0.0),\n",
       " (131, 0.0),\n",
       " (132, 0.0),\n",
       " (133, 0.0),\n",
       " (134, 0.0),\n",
       " (135, 0.0),\n",
       " (137, 0.0),\n",
       " (138, 0.0),\n",
       " (139, 0.0),\n",
       " (140, 0.0),\n",
       " (141, 0.0),\n",
       " (142, 0.0),\n",
       " (143, 0.0),\n",
       " (144, 0.0),\n",
       " (145, 0.0),\n",
       " (146, 0.0),\n",
       " (148, 0.0),\n",
       " (149, 0.0),\n",
       " (151, 0.0),\n",
       " (152, 0.0),\n",
       " (153, 0.0),\n",
       " (154, 0.0),\n",
       " (156, 0.0),\n",
       " (158, 0.0),\n",
       " (160, 0.0),\n",
       " (161, 0.0),\n",
       " (162, 0.0),\n",
       " (163, 0.0),\n",
       " (164, 0.0),\n",
       " (165, 0.0),\n",
       " (166, 0.0),\n",
       " (167, 0.0),\n",
       " (168, 0.0),\n",
       " (169, 0.0),\n",
       " (170, 0.0),\n",
       " (171, 0.0),\n",
       " (172, 0.0),\n",
       " (173, 0.0),\n",
       " (174, 0.0),\n",
       " (175, 0.0),\n",
       " (176, 0.0),\n",
       " (177, 0.0),\n",
       " (178, 0.0),\n",
       " (179, 0.0),\n",
       " (180, 0.0),\n",
       " (181, 0.0),\n",
       " (182, 0.0),\n",
       " (183, 0.0),\n",
       " (184, 0.0),\n",
       " (185, 0.0),\n",
       " (186, 0.0),\n",
       " (187, 0.0),\n",
       " (188, 0.0),\n",
       " (189, 0.0),\n",
       " (190, 0.0),\n",
       " (192, 0.0),\n",
       " (193, 0.0),\n",
       " (194, 0.0),\n",
       " (195, 0.0),\n",
       " (196, 0.0),\n",
       " (197, 0.0),\n",
       " (198, 0.0),\n",
       " (200, 0.0),\n",
       " (203, 0.0),\n",
       " (205, 0.0),\n",
       " (206, 0.0),\n",
       " (208, 0.0),\n",
       " (210, 0.0),\n",
       " (212, 0.0),\n",
       " (213, 0.0),\n",
       " (214, 0.0),\n",
       " (215, 0.0),\n",
       " (216, 0.0),\n",
       " (217, 0.0),\n",
       " (218, 0.0),\n",
       " (219, 0.0),\n",
       " (221, 0.0),\n",
       " (222, 0.0),\n",
       " (223, 0.0),\n",
       " (224, 0.0),\n",
       " (225, 0.0),\n",
       " (226, 0.0),\n",
       " (227, 0.0),\n",
       " (229, 0.0),\n",
       " (231, 0.0),\n",
       " (232, 0.0),\n",
       " (233, 0.0),\n",
       " (234, 0.0),\n",
       " (235, 0.0),\n",
       " (236, 0.0),\n",
       " (238, 0.0),\n",
       " (240, 0.0),\n",
       " (241, 0.0),\n",
       " (242, 0.0),\n",
       " (243, 0.0),\n",
       " (244, 0.0),\n",
       " (245, 0.0),\n",
       " (246, 0.0),\n",
       " (247, 0.0),\n",
       " (248, 0.0),\n",
       " (249, 0.0),\n",
       " (250, 0.0),\n",
       " (251, 0.0),\n",
       " (252, 0.0),\n",
       " (253, 0.0),\n",
       " (254, 0.0),\n",
       " (255, 0.0),\n",
       " (256, 0.0),\n",
       " (257, 0.0),\n",
       " (258, 0.0),\n",
       " (259, 0.0),\n",
       " (261, 0.0),\n",
       " (263, 0.0),\n",
       " (264, 0.0),\n",
       " (265, 0.0),\n",
       " (266, 0.0),\n",
       " (267, 0.0),\n",
       " (269, 0.0),\n",
       " (270, 0.0),\n",
       " (271, 0.0),\n",
       " (272, 0.0),\n",
       " (273, 0.0),\n",
       " (274, 0.0),\n",
       " (275, 0.0),\n",
       " (276, 0.0),\n",
       " (277, 0.0),\n",
       " (278, 0.0),\n",
       " (279, 0.0),\n",
       " (280, 0.0),\n",
       " (281, 0.0),\n",
       " (282, 0.0),\n",
       " (283, 0.0),\n",
       " (284, 0.0),\n",
       " (285, 0.0),\n",
       " (286, 0.0),\n",
       " (287, 0.0),\n",
       " (288, 0.0),\n",
       " (289, 0.0),\n",
       " (290, 0.0),\n",
       " (291, 0.0),\n",
       " (293, 0.0),\n",
       " (294, 0.0),\n",
       " (295, 0.0),\n",
       " (296, 0.0),\n",
       " (297, 0.0),\n",
       " (298, 0.0),\n",
       " (299, 0.0),\n",
       " (300, 0.0),\n",
       " (301, 0.0),\n",
       " (302, 0.0),\n",
       " (303, 0.0),\n",
       " (304, 0.0),\n",
       " (305, 0.0),\n",
       " (306, 0.0),\n",
       " (307, 0.0),\n",
       " (308, 0.0),\n",
       " (309, 0.0),\n",
       " (310, 0.0),\n",
       " (311, 0.0),\n",
       " (312, 0.0),\n",
       " (313, 0.0),\n",
       " (314, 0.0),\n",
       " (315, 0.0),\n",
       " (316, 0.0),\n",
       " (317, 0.0),\n",
       " (318, 0.0),\n",
       " (320, 0.0),\n",
       " (321, 0.0),\n",
       " (322, 0.0),\n",
       " (323, 0.0),\n",
       " (324, 0.0),\n",
       " (325, 0.0),\n",
       " (326, 0.0),\n",
       " (327, 0.0),\n",
       " (328, 0.0),\n",
       " (329, 0.0),\n",
       " (330, 0.0),\n",
       " (331, 0.0),\n",
       " (332, 0.0),\n",
       " (333, 0.0),\n",
       " (334, 0.0),\n",
       " (335, 0.0),\n",
       " (336, 0.0),\n",
       " (337, 0.0),\n",
       " (338, 0.0),\n",
       " (339, 0.0),\n",
       " (340, 0.0),\n",
       " (341, 0.0),\n",
       " (342, 0.0),\n",
       " (343, 0.0),\n",
       " (344, 0.0),\n",
       " (345, 0.0),\n",
       " (346, 0.0),\n",
       " (347, 0.0),\n",
       " (348, 0.0),\n",
       " (349, 0.0),\n",
       " (350, 0.0),\n",
       " (351, 0.0),\n",
       " (352, 0.0),\n",
       " (353, 0.0),\n",
       " (354, 0.0),\n",
       " (355, 0.0),\n",
       " (356, 0.0),\n",
       " (357, 0.0),\n",
       " (358, 0.0),\n",
       " (359, 0.0),\n",
       " (360, 0.0),\n",
       " (361, 0.0),\n",
       " (362, 0.0),\n",
       " (363, 0.0),\n",
       " (365, 0.0),\n",
       " (366, 0.0),\n",
       " (367, 0.0),\n",
       " (368, 0.0),\n",
       " (369, 0.0),\n",
       " (370, 0.0),\n",
       " (371, 0.0),\n",
       " (372, 0.0),\n",
       " (373, 0.0),\n",
       " (374, 0.0),\n",
       " (375, 0.0),\n",
       " (376, 0.0),\n",
       " (377, 0.0),\n",
       " (378, 0.0),\n",
       " (379, 0.0),\n",
       " (380, 0.0),\n",
       " (381, 0.0),\n",
       " (382, 0.0),\n",
       " (383, 0.0),\n",
       " (384, 0.0),\n",
       " (385, 0.0),\n",
       " (386, 0.0),\n",
       " (387, 0.0),\n",
       " (388, 0.0),\n",
       " (389, 0.0),\n",
       " (390, 0.0),\n",
       " (391, 0.0),\n",
       " (392, 0.0),\n",
       " (393, 0.0),\n",
       " (394, 0.0),\n",
       " (395, 0.0),\n",
       " (396, 0.0),\n",
       " (397, 0.0),\n",
       " (398, 0.0),\n",
       " (399, 0.0),\n",
       " (400, 0.0),\n",
       " (401, 0.0),\n",
       " (402, 0.0),\n",
       " (403, 0.0),\n",
       " (404, 0.0),\n",
       " (405, 0.0),\n",
       " (406, 0.0),\n",
       " (407, 0.0),\n",
       " (408, 0.0),\n",
       " (409, 0.0),\n",
       " (410, 0.0),\n",
       " (411, 0.0),\n",
       " (412, 0.0),\n",
       " (413, 0.0),\n",
       " (414, 0.0),\n",
       " (415, 0.0),\n",
       " (416, 0.0),\n",
       " (417, 0.0),\n",
       " (418, 0.0),\n",
       " (419, 0.0),\n",
       " (420, 0.0),\n",
       " (421, 0.0),\n",
       " (422, 0.0),\n",
       " (423, 0.0),\n",
       " (424, 0.0),\n",
       " (425, 0.0),\n",
       " (426, 0.0),\n",
       " (427, 0.0),\n",
       " (428, 0.0),\n",
       " (429, 0.0),\n",
       " (430, 0.0),\n",
       " (431, 0.0),\n",
       " (432, 0.0),\n",
       " (433, 0.0),\n",
       " (434, 0.0),\n",
       " (435, 0.0),\n",
       " (436, 0.0),\n",
       " (437, 0.0),\n",
       " (438, 0.0),\n",
       " (439, 0.0),\n",
       " (440, 0.0),\n",
       " (441, 0.0),\n",
       " (442, 0.0),\n",
       " (443, 0.0),\n",
       " (444, 0.0),\n",
       " (445, 0.0),\n",
       " (446, 0.0),\n",
       " (447, 0.0),\n",
       " (448, 0.0),\n",
       " (449, 0.0),\n",
       " (450, 0.0),\n",
       " (451, 0.0),\n",
       " (452, 0.0),\n",
       " (453, 0.0),\n",
       " (454, 0.0),\n",
       " (455, 0.0),\n",
       " (456, 0.0),\n",
       " (457, 0.0),\n",
       " (458, 0.0),\n",
       " (459, 0.0),\n",
       " (460, 0.0),\n",
       " (461, 0.0),\n",
       " (463, 0.0),\n",
       " (464, 0.0),\n",
       " (465, 0.0),\n",
       " (466, 0.0),\n",
       " (467, 0.0),\n",
       " (468, 0.0),\n",
       " (469, 0.0),\n",
       " (470, 0.0),\n",
       " (471, 0.0),\n",
       " (472, 0.0),\n",
       " (473, 0.0),\n",
       " (474, 0.0),\n",
       " (475, 0.0),\n",
       " (476, 0.0),\n",
       " (477, 0.0),\n",
       " (478, 0.0),\n",
       " (479, 0.0),\n",
       " (480, 0.0),\n",
       " (481, 0.0),\n",
       " (482, 0.0),\n",
       " (483, 0.0),\n",
       " (484, 0.0),\n",
       " (485, 0.0),\n",
       " (486, 0.0),\n",
       " (487, 0.0),\n",
       " (488, 0.0),\n",
       " (489, 0.0),\n",
       " (490, 0.0),\n",
       " (491, 0.0),\n",
       " (492, 0.0),\n",
       " (493, 0.0),\n",
       " (494, 0.0),\n",
       " (495, 0.0),\n",
       " (496, 0.0),\n",
       " (497, 0.0),\n",
       " (498, 0.0),\n",
       " (499, 0.0),\n",
       " (500, 0.0),\n",
       " (501, 0.0),\n",
       " (502, 0.0),\n",
       " (503, 0.0),\n",
       " (504, 0.0),\n",
       " (505, 0.0),\n",
       " (506, 0.0),\n",
       " (507, 0.0),\n",
       " (508, 0.0),\n",
       " (509, 0.0),\n",
       " (510, 0.0),\n",
       " (511, 0.0),\n",
       " (512, 0.0),\n",
       " (513, 0.0),\n",
       " (514, 0.0),\n",
       " (515, 0.0),\n",
       " (516, 0.0),\n",
       " (517, 0.0),\n",
       " (518, 0.0),\n",
       " (519, 0.0),\n",
       " (520, 0.0),\n",
       " (521, 0.0),\n",
       " (522, 0.0),\n",
       " (523, 0.0),\n",
       " (524, 0.0),\n",
       " (525, 0.0),\n",
       " (526, 0.0),\n",
       " (527, 0.0),\n",
       " (528, 0.0),\n",
       " (529, 0.0),\n",
       " (530, 0.0),\n",
       " (531, 0.0),\n",
       " (532, 0.0),\n",
       " (533, 0.0),\n",
       " (534, 0.0),\n",
       " (535, 0.0),\n",
       " (536, 0.0),\n",
       " (537, 0.0),\n",
       " (538, 0.0),\n",
       " (539, 0.0),\n",
       " (540, 0.0),\n",
       " (541, 0.0),\n",
       " (542, 0.0),\n",
       " (543, 0.0),\n",
       " (544, 0.0),\n",
       " (545, 0.0),\n",
       " (546, 0.0),\n",
       " (547, 0.0),\n",
       " (548, 0.0),\n",
       " (549, 0.0),\n",
       " (550, 0.0),\n",
       " (551, 0.0),\n",
       " (552, 0.0),\n",
       " (553, 0.0),\n",
       " (554, 0.0),\n",
       " (555, 0.0),\n",
       " (556, 0.0),\n",
       " (557, 0.0),\n",
       " (558, 0.0),\n",
       " (559, 0.0),\n",
       " (560, 0.0),\n",
       " (561, 0.0),\n",
       " (562, 0.0),\n",
       " (563, 0.0),\n",
       " (564, 0.0),\n",
       " (565, 0.0),\n",
       " (566, 0.0),\n",
       " (567, 0.0),\n",
       " (568, 0.0),\n",
       " (569, 0.0),\n",
       " (570, 0.0),\n",
       " (571, 0.0),\n",
       " (572, 0.0),\n",
       " (573, 0.0),\n",
       " (574, 0.0),\n",
       " (575, 0.0),\n",
       " (576, 0.0),\n",
       " (577, 0.0),\n",
       " (578, 0.0),\n",
       " (579, 0.0),\n",
       " (580, 0.0),\n",
       " (581, 0.0),\n",
       " (582, 0.0),\n",
       " (583, 0.0),\n",
       " (584, 0.0),\n",
       " (585, 0.0),\n",
       " (586, 0.0),\n",
       " (587, 0.0),\n",
       " (588, 0.0),\n",
       " (589, 0.0),\n",
       " (590, 0.0),\n",
       " (591, 0.0),\n",
       " (592, 0.0),\n",
       " (593, 0.0),\n",
       " (594, 0.0),\n",
       " (595, 0.0),\n",
       " (596, 0.0),\n",
       " (597, 0.0),\n",
       " (598, 0.0),\n",
       " (599, 0.0),\n",
       " (600, 0.0),\n",
       " (601, 0.0),\n",
       " (602, 0.0),\n",
       " (603, 0.0),\n",
       " (604, 0.0),\n",
       " (605, 0.0),\n",
       " (606, 0.0),\n",
       " (607, 0.0),\n",
       " (608, 0.0),\n",
       " (609, 0.0),\n",
       " (610, 0.0),\n",
       " (611, 0.0),\n",
       " (612, 0.0),\n",
       " (613, 0.0),\n",
       " (614, 0.0),\n",
       " (615, 0.0),\n",
       " (616, 0.0),\n",
       " (617, 0.0),\n",
       " (618, 0.0),\n",
       " (619, 0.0),\n",
       " (620, 0.0),\n",
       " (621, 0.0),\n",
       " (622, 0.0),\n",
       " (623, 0.0),\n",
       " (624, 0.0),\n",
       " (625, 0.0),\n",
       " (626, 0.0),\n",
       " (627, 0.0),\n",
       " (628, 0.0),\n",
       " (629, 0.0),\n",
       " (630, 0.0),\n",
       " (631, 0.0),\n",
       " (632, 0.0),\n",
       " (633, 0.0),\n",
       " (634, 0.0),\n",
       " (635, 0.0),\n",
       " (636, 0.0),\n",
       " (637, 0.0),\n",
       " (638, 0.0),\n",
       " (639, 0.0),\n",
       " (640, 0.0),\n",
       " (641, 0.0),\n",
       " (642, 0.0),\n",
       " (643, 0.0),\n",
       " (644, 0.0),\n",
       " (645, 0.0),\n",
       " (646, 0.0),\n",
       " (647, 0.0),\n",
       " (648, 0.0),\n",
       " (649, 0.0),\n",
       " (650, 0.0),\n",
       " (651, 0.0),\n",
       " (652, 0.0),\n",
       " (653, 0.0),\n",
       " (654, 0.0),\n",
       " (655, 0.0),\n",
       " (656, 0.0),\n",
       " (657, 0.0)]"
      ]
     },
     "execution_count": 60,
     "metadata": {},
     "output_type": "execute_result"
    }
   ],
   "source": [
    "l = [(k,v) for k,v in enumerate(fti)]\n",
    "ls = sorted(l,key= lambda r:r[1],reverse=True)\n",
    "ls"
   ]
  },
  {
   "cell_type": "code",
   "execution_count": 121,
   "metadata": {
    "collapsed": false,
    "deletable": true,
    "editable": true
   },
   "outputs": [],
   "source": [
    "pr = model.transform(tst_dt)\n"
   ]
  },
  {
   "cell_type": "code",
   "execution_count": 122,
   "metadata": {
    "collapsed": false,
    "deletable": true,
    "editable": true
   },
   "outputs": [
    {
     "name": "stdout",
     "output_type": "stream",
     "text": [
      "+----+--------+--------------------+--------------------+--------------------+----------+\n",
      "|  Id|Response|            features|       rawPrediction|         probability|prediction|\n",
      "+----+--------+--------------------+--------------------+--------------------+----------+\n",
      "| 265|       0|[-5.5059986706710...|[49.8413286444144...|[0.99682657288828...|       0.0|\n",
      "| 407|       0|[-4.8227132773116...|[49.7106245438695...|[0.99421249087739...|       0.0|\n",
      "| 457|       0|[7196744.98570346...|[49.7202634067274...|[0.99440526813454...|       0.0|\n",
      "| 616|       0|[-1.4800141026705...|[49.8415091399721...|[0.99683018279944...|       0.0|\n",
      "| 632|       0|[-6.0212203233109...|[49.7191910609986...|[0.99438382121997...|       0.0|\n",
      "| 681|       0|[-1.8577462607146...|[49.7520178860112...|[0.99504035772022...|       0.0|\n",
      "|1526|       0|[-5.5103249021181...|[49.8344698395687...|[0.99668939679137...|       0.0|\n",
      "|1603|       0|[-2658693.2143116...|[49.8262998895224...|[0.99652599779044...|       0.0|\n",
      "|2460|       0|[-4.8226667729247...|[49.7564125117724...|[0.99512825023544...|       0.0|\n",
      "|2845|       0|[-3.3089083788588...|[49.6925967264995...|[0.99385193452999...|       0.0|\n",
      "|3464|       0|[2.15745240218043...|[49.6249091383022...|[0.99249818276604...|       0.0|\n",
      "|4476|       0|[-1.0053262555289...|[49.7264287014995...|[0.99452857402999...|       0.0|\n",
      "|4811|       0|[-256461.02307217...|[49.5934365926925...|[0.99186873185385...|       0.0|\n",
      "|5184|       0|[-1.7347367246786...|[49.6887236726203...|[0.99377447345240...|       0.0|\n",
      "|5530|       0|[-1.8562464095889...|[49.5717446247474...|[0.99143489249494...|       0.0|\n",
      "|6101|       0|[-1.4627387561116...|[49.7175232035594...|[0.99435046407118...|       0.0|\n",
      "|6103|       0|[-1.8576156640129...|[49.7555255036434...|[0.99511051007286...|       0.0|\n",
      "|6356|       0|[-6.0374635621540...|[49.6620556030170...|[0.99324111206034...|       0.0|\n",
      "|6383|       0|[-5.2546742870351...|[49.7831923714267...|[0.99566384742853...|       0.0|\n",
      "|6585|       0|[-1.4862998097365...|[49.8352677804335...|[0.99670535560867...|       0.0|\n",
      "+----+--------+--------------------+--------------------+--------------------+----------+\n",
      "only showing top 20 rows\n",
      "\n"
     ]
    }
   ],
   "source": [
    "pr.show()"
   ]
  },
  {
   "cell_type": "code",
   "execution_count": 123,
   "metadata": {
    "collapsed": false,
    "deletable": true,
    "editable": true
   },
   "outputs": [],
   "source": [
    "label_pred_list = pr.select(pr['Response'],pr['prediction']).collect()\n"
   ]
  },
  {
   "cell_type": "markdown",
   "metadata": {
    "deletable": true,
    "editable": true
   },
   "source": [
    "### Testing Models"
   ]
  },
  {
   "cell_type": "code",
   "execution_count": null,
   "metadata": {
    "collapsed": true,
    "deletable": true,
    "editable": true
   },
   "outputs": [],
   "source": []
  },
  {
   "cell_type": "markdown",
   "metadata": {
    "deletable": true,
    "editable": true
   },
   "source": [
    "### Results evaluation"
   ]
  },
  {
   "cell_type": "code",
   "execution_count": 109,
   "metadata": {
    "collapsed": true
   },
   "outputs": [],
   "source": [
    "def matthews_corr_coef(label_pred_list): \n",
    "    import math\n",
    "    tp = np.sum(1 for r in label_pred_list if r[0] == 1 and r[1] == 1)\n",
    "    tn = np.sum(1 for r in label_pred_list if r[0] == 0 and r[1] == 0)\n",
    "    fp = np.sum(1 for r in label_pred_list if r[0] == 0 and r[1] == 1)\n",
    "    fn = np.sum(1 for r in label_pred_list if r[0] == 1 and r[1] == 0)\n",
    "    print \"True Positives:\", tp\n",
    "    print \"True Negatives:\", tn\n",
    "    print \"False Positives:\", fp\n",
    "    print \"False Negatives:\", fn\n",
    "    #print \"Total\", df.count()\n",
    "    try:\n",
    "        MCC = ((tp * tn) - (fp * fn)) / math.sqrt((tp + fp)*(tp + fn)*(tn + fp)*(tn + fn))\n",
    "    except ZeroDivisionError:\n",
    "        MCC = -1\n",
    "    print \"Matthews correlation coefficient: \", MCC"
   ]
  },
  {
   "cell_type": "code",
   "execution_count": 124,
   "metadata": {
    "collapsed": false,
    "deletable": true,
    "editable": true
   },
   "outputs": [
    {
     "name": "stdout",
     "output_type": "stream",
     "text": [
      "True Positives: 0\n",
      "True Negatives: 353672\n",
      "False Positives: 0\n",
      "False Negatives: 2041\n",
      "Matthews correlation coefficient:  -1\n"
     ]
    }
   ],
   "source": [
    "matthews_corr_coef(label_pred_list)"
   ]
  },
  {
   "cell_type": "code",
   "execution_count": null,
   "metadata": {
    "collapsed": false,
    "deletable": true,
    "editable": true
   },
   "outputs": [],
   "source": []
  },
  {
   "cell_type": "code",
   "execution_count": null,
   "metadata": {
    "collapsed": false,
    "deletable": true,
    "editable": true
   },
   "outputs": [],
   "source": []
  }
 ],
 "metadata": {
  "kernelspec": {
   "display_name": "Python 2",
   "language": "python",
   "name": "python2"
  },
  "language_info": {
   "codemirror_mode": {
    "name": "ipython",
    "version": 2
   },
   "file_extension": ".py",
   "mimetype": "text/x-python",
   "name": "python",
   "nbconvert_exporter": "python",
   "pygments_lexer": "ipython2",
   "version": "2.7.12"
  }
 },
 "nbformat": 4,
 "nbformat_minor": 0
}
