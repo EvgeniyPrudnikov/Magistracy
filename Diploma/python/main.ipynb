{
 "cells": [
  {
   "cell_type": "code",
   "execution_count": 1,
   "metadata": {
    "collapsed": false,
    "deletable": true,
    "editable": true
   },
   "outputs": [],
   "source": [
    "from pyspark import SparkContext\n",
    "from pyspark.sql import SQLContext, Row\n",
    "from pyspark.sql.types import *\n",
    "from pyspark.sql.functions import *\n",
    "import numpy as np\n",
    "import pandas as pd\n",
    "import random\n",
    "import time as t"
   ]
  },
  {
   "cell_type": "code",
   "execution_count": 2,
   "metadata": {
    "collapsed": false,
    "deletable": true,
    "editable": true,
    "scrolled": true
   },
   "outputs": [],
   "source": [
    "sc = SparkContext()\n",
    "sqlContext = SQLContext(sc)"
   ]
  },
  {
   "cell_type": "code",
   "execution_count": 3,
   "metadata": {
    "collapsed": true,
    "deletable": true,
    "editable": true
   },
   "outputs": [],
   "source": [
    "numeric_file = '/home/jonscat/Study/diploma_data/train_num_test.csv'"
   ]
  },
  {
   "cell_type": "code",
   "execution_count": 80,
   "metadata": {
    "collapsed": false
   },
   "outputs": [
    {
     "data": {
      "text/plain": [
       "<enumerate at 0x7f93d6a7c7d0>"
      ]
     },
     "execution_count": 80,
     "metadata": {},
     "output_type": "execute_result"
    },
    {
     "name": "stdout",
     "output_type": "stream",
     "text": [
      "0 a\n",
      "1 b\n",
      "2 c\n",
      "3 d\n"
     ]
    }
   ],
   "source": [
    "l = ['a','b','c','d']\n",
    "enumerate (l)\n",
    "for i,e in enumerate(l):\n",
    "    print i,e"
   ]
  },
  {
   "cell_type": "code",
   "execution_count": 98,
   "metadata": {
    "collapsed": false,
    "deletable": true,
    "editable": true
   },
   "outputs": [],
   "source": [
    "def create_df(filename):\n",
    "    text = sc.textFile(filename)\n",
    "    header_names = ['Id','F1','F2','Response']#list(text.first().split(','))[0:3] + [list(text.first().split(','))[-1]]\n",
    "    header_row = text.first()\n",
    "    no_header_text = text.filter(lambda row: row != header_row)\n",
    "    \n",
    "    object_rows = Row(*header_names)  # unpack list\n",
    "\n",
    "    schema = no_header_text.map(lambda line: line.split(','))\\\n",
    "        .map(lambda l: l[0:3] + [l[-1]])\\\n",
    "        .map(lambda l: [None if e == '' \\\n",
    "                         else int(e) if i == 0 or i == len(l) - 1\\\n",
    "                         else int(float(e)*1000) for i,e in enumerate(l)])\\\n",
    "        .map(lambda l: object_rows(*l))\\\n",
    "\n",
    "    df = sqlContext.createDataFrame(schema, samplingRatio=0.002)\n",
    "    return df"
   ]
  },
  {
   "cell_type": "code",
   "execution_count": 140,
   "metadata": {
    "collapsed": false,
    "deletable": true,
    "editable": true
   },
   "outputs": [],
   "source": [
    "df = create_df(numeric_file)"
   ]
  },
  {
   "cell_type": "code",
   "execution_count": 141,
   "metadata": {
    "collapsed": false,
    "deletable": true,
    "editable": true
   },
   "outputs": [],
   "source": [
    "df2 = df"
   ]
  },
  {
   "cell_type": "code",
   "execution_count": 142,
   "metadata": {
    "collapsed": false,
    "deletable": true,
    "editable": true
   },
   "outputs": [
    {
     "name": "stdout",
     "output_type": "stream",
     "text": [
      "+---+----+----+--------+\n",
      "| Id|  F1|  F2|Response|\n",
      "+---+----+----+--------+\n",
      "|  4|  30| -34|       0|\n",
      "|  6|null|null|       0|\n",
      "|  7|  88|  86|       0|\n",
      "|  9| -36| -64|       0|\n",
      "| 11| -55| -86|       0|\n",
      "| 13|   3|  19|       0|\n",
      "| 14|null|null|       0|\n",
      "| 16|null|null|       0|\n",
      "| 18| -16| -41|       0|\n",
      "| 23|null|null|       0|\n",
      "| 26|  16|  93|       0|\n",
      "| 27| -62|-153|       0|\n",
      "| 28| -75| -93|       0|\n",
      "| 31|  -3| -93|       0|\n",
      "| 34| -16|-138|       0|\n",
      "| 38| 252| 250|       0|\n",
      "| 41|null|null|       0|\n",
      "| 44| -16| -41|       0|\n",
      "| 47|null|null|       0|\n",
      "| 49|  88|  33|       0|\n",
      "+---+----+----+--------+\n",
      "only showing top 20 rows\n",
      "\n"
     ]
    }
   ],
   "source": [
    "df2.show()"
   ]
  },
  {
   "cell_type": "code",
   "execution_count": null,
   "metadata": {
    "collapsed": false,
    "deletable": true,
    "editable": true
   },
   "outputs": [],
   "source": [
    "df2 = df2.withColumn('lol', sqrt(df2.Id))"
   ]
  },
  {
   "cell_type": "code",
   "execution_count": 102,
   "metadata": {
    "collapsed": false,
    "deletable": true,
    "editable": true
   },
   "outputs": [
    {
     "name": "stdout",
     "output_type": "stream",
     "text": [
      "root\n",
      " |-- Id: long (nullable = true)\n",
      " |-- F1: long (nullable = true)\n",
      " |-- F2: long (nullable = true)\n",
      " |-- Response: long (nullable = true)\n",
      "\n"
     ]
    }
   ],
   "source": [
    "df2.printSchema()"
   ]
  },
  {
   "cell_type": "code",
   "execution_count": null,
   "metadata": {
    "collapsed": false,
    "deletable": true,
    "editable": true
   },
   "outputs": [],
   "source": []
  },
  {
   "cell_type": "code",
   "execution_count": null,
   "metadata": {
    "collapsed": false,
    "deletable": true,
    "editable": true
   },
   "outputs": [],
   "source": [
    "\n"
   ]
  },
  {
   "cell_type": "code",
   "execution_count": 143,
   "metadata": {
    "collapsed": false,
    "deletable": true,
    "editable": true
   },
   "outputs": [
    {
     "name": "stdout",
     "output_type": "stream",
     "text": [
      "+---+----+----+--------+\n",
      "| Id|  F1|  F2|Response|\n",
      "+---+----+----+--------+\n",
      "|  4|  30| -34|       0|\n",
      "|  6|null|null|       0|\n",
      "|  7|  88|  86|       0|\n",
      "|  9| -36| -64|       0|\n",
      "| 11| -55| -86|       0|\n",
      "| 13|   3|  19|       0|\n",
      "| 14|null|null|       0|\n",
      "| 16|null|null|       0|\n",
      "| 18| -16| -41|       0|\n",
      "| 23|null|null|       0|\n",
      "| 26|  16|  93|       0|\n",
      "| 27| -62|-153|       0|\n",
      "| 28| -75| -93|       0|\n",
      "| 31|  -3| -93|       0|\n",
      "| 34| -16|-138|       0|\n",
      "| 38| 252| 250|       0|\n",
      "| 41|null|null|       0|\n",
      "| 44| -16| -41|       0|\n",
      "| 47|null|null|       0|\n",
      "| 49|  88|  33|       0|\n",
      "+---+----+----+--------+\n",
      "only showing top 20 rows\n",
      "\n",
      "root\n",
      " |-- Id: long (nullable = true)\n",
      " |-- F1: long (nullable = true)\n",
      " |-- F2: long (nullable = true)\n",
      " |-- Response: long (nullable = true)\n",
      "\n",
      "+-------+------------------+-------------------+-------------------+--------------------+\n",
      "|summary|                Id|                 F1|                 F2|            Response|\n",
      "+-------+------------------+-------------------+-------------------+--------------------+\n",
      "|  count|             49999|              28854|              28854|               49999|\n",
      "|   mean|50040.643732874654|-1.3415470991890206|-1.9249670756220973|0.005420108402168...|\n",
      "| stddev|28917.679775518638|  79.99235637706691|  92.76634029419631| 0.07342233070399026|\n",
      "|    min|                 4|               -402|               -474|                   0|\n",
      "|    max|            100144|                278|                280|                   1|\n",
      "+-------+------------------+-------------------+-------------------+--------------------+\n",
      "\n"
     ]
    }
   ],
   "source": [
    "df2.show()\n",
    "df2.printSchema()\n",
    "df2.describe().show()"
   ]
  },
  {
   "cell_type": "code",
   "execution_count": null,
   "metadata": {
    "collapsed": false,
    "deletable": true,
    "editable": true
   },
   "outputs": [],
   "source": []
  },
  {
   "cell_type": "code",
   "execution_count": null,
   "metadata": {
    "collapsed": false,
    "deletable": true,
    "editable": true
   },
   "outputs": [],
   "source": [
    "rdd_vect = sc.parallelize(rand_vect1,df2.rdd.getNumPartitions())\n",
    "rdd_vect = rdd_vect.map(lambda l:l)"
   ]
  },
  {
   "cell_type": "code",
   "execution_count": null,
   "metadata": {
    "collapsed": false,
    "deletable": true,
    "editable": true
   },
   "outputs": [],
   "source": [
    "rdd_vect\n",
    "rdd1 = df2.rdd\n",
    "rdd1"
   ]
  },
  {
   "cell_type": "code",
   "execution_count": null,
   "metadata": {
    "collapsed": false,
    "deletable": true,
    "editable": true
   },
   "outputs": [],
   "source": [
    "rdd3 = df2.rdd.zip(rdd_vect)"
   ]
  },
  {
   "cell_type": "code",
   "execution_count": null,
   "metadata": {
    "collapsed": false,
    "deletable": true,
    "editable": true
   },
   "outputs": [],
   "source": [
    "rdd3.take(10)"
   ]
  },
  {
   "cell_type": "code",
   "execution_count": null,
   "metadata": {
    "collapsed": false,
    "deletable": true,
    "editable": true
   },
   "outputs": [],
   "source": [
    "def mapper(row,col_name,col_value):\n",
    "    data = row.asDict()\n",
    "    data[col_name] = col_value\n",
    "    return Row(**data)"
   ]
  },
  {
   "cell_type": "code",
   "execution_count": null,
   "metadata": {
    "collapsed": false,
    "deletable": true,
    "editable": true
   },
   "outputs": [],
   "source": [
    "rdd3 = rdd3.map(lambda l: mapper(l[0],'rand_vect', l[1]) )"
   ]
  },
  {
   "cell_type": "code",
   "execution_count": null,
   "metadata": {
    "collapsed": false,
    "deletable": true,
    "editable": true
   },
   "outputs": [],
   "source": [
    "rdd3.take(10)"
   ]
  },
  {
   "cell_type": "code",
   "execution_count": null,
   "metadata": {
    "collapsed": false,
    "deletable": true,
    "editable": true
   },
   "outputs": [],
   "source": [
    "df4 = rdd3.repartition(3).toDF()"
   ]
  },
  {
   "cell_type": "code",
   "execution_count": 265,
   "metadata": {
    "collapsed": false,
    "deletable": true,
    "editable": true
   },
   "outputs": [
    {
     "name": "stdout",
     "output_type": "stream",
     "text": [
      "+---+----+----+--------+\n",
      "| Id|  F1|  F2|Response|\n",
      "+---+----+----+--------+\n",
      "|  4|  30| -34|       0|\n",
      "|  6|null|null|       0|\n",
      "|  7|  88|  86|       0|\n",
      "|  9| -36| -64|       0|\n",
      "| 11| -55| -86|       0|\n",
      "| 13|   3|  19|       0|\n",
      "| 14|null|null|       0|\n",
      "| 16|null|null|       0|\n",
      "| 18| -16| -41|       0|\n",
      "| 23|null|null|       0|\n",
      "+---+----+----+--------+\n",
      "only showing top 10 rows\n",
      "\n"
     ]
    }
   ],
   "source": [
    "df2.show(10)"
   ]
  },
  {
   "cell_type": "code",
   "execution_count": 144,
   "metadata": {
    "collapsed": true,
    "deletable": true,
    "editable": true
   },
   "outputs": [],
   "source": [
    "from pyspark.ml.classification import GBTClassifier\n",
    "from pyspark.ml.linalg import Vectors\n",
    "from pyspark.ml.feature import VectorAssembler"
   ]
  },
  {
   "cell_type": "code",
   "execution_count": null,
   "metadata": {
    "collapsed": true,
    "deletable": true,
    "editable": true
   },
   "outputs": [],
   "source": []
  },
  {
   "cell_type": "code",
   "execution_count": 145,
   "metadata": {
    "collapsed": false,
    "deletable": true,
    "editable": true
   },
   "outputs": [],
   "source": [
    "vecAssembler = VectorAssembler(inputCols=[\"F1\", \"F2\"], outputCol=\"features\")\n"
   ]
  },
  {
   "cell_type": "code",
   "execution_count": 146,
   "metadata": {
    "collapsed": false,
    "deletable": true,
    "editable": true
   },
   "outputs": [],
   "source": [
    "df2  = df2.na.fill(99999999)"
   ]
  },
  {
   "cell_type": "code",
   "execution_count": 147,
   "metadata": {
    "collapsed": false,
    "deletable": true,
    "editable": true
   },
   "outputs": [],
   "source": [
    "ass = vecAssembler.transform(df2)"
   ]
  },
  {
   "cell_type": "code",
   "execution_count": 148,
   "metadata": {
    "collapsed": false,
    "deletable": true,
    "editable": true
   },
   "outputs": [
    {
     "name": "stdout",
     "output_type": "stream",
     "text": [
      "+---+--------+--------+--------+--------------------+\n",
      "| Id|      F1|      F2|Response|            features|\n",
      "+---+--------+--------+--------+--------------------+\n",
      "|  4|      30|     -34|       0|        [30.0,-34.0]|\n",
      "|  6|99999999|99999999|       0|[9.9999999E7,9.99...|\n",
      "|  7|      88|      86|       0|         [88.0,86.0]|\n",
      "|  9|     -36|     -64|       0|       [-36.0,-64.0]|\n",
      "| 11|     -55|     -86|       0|       [-55.0,-86.0]|\n",
      "| 13|       3|      19|       0|          [3.0,19.0]|\n",
      "| 14|99999999|99999999|       0|[9.9999999E7,9.99...|\n",
      "| 16|99999999|99999999|       0|[9.9999999E7,9.99...|\n",
      "| 18|     -16|     -41|       0|       [-16.0,-41.0]|\n",
      "| 23|99999999|99999999|       0|[9.9999999E7,9.99...|\n",
      "| 26|      16|      93|       0|         [16.0,93.0]|\n",
      "| 27|     -62|    -153|       0|      [-62.0,-153.0]|\n",
      "| 28|     -75|     -93|       0|       [-75.0,-93.0]|\n",
      "| 31|      -3|     -93|       0|        [-3.0,-93.0]|\n",
      "| 34|     -16|    -138|       0|      [-16.0,-138.0]|\n",
      "| 38|     252|     250|       0|       [252.0,250.0]|\n",
      "| 41|99999999|99999999|       0|[9.9999999E7,9.99...|\n",
      "| 44|     -16|     -41|       0|       [-16.0,-41.0]|\n",
      "| 47|99999999|99999999|       0|[9.9999999E7,9.99...|\n",
      "| 49|      88|      33|       0|         [88.0,33.0]|\n",
      "+---+--------+--------+--------+--------------------+\n",
      "only showing top 20 rows\n",
      "\n"
     ]
    }
   ],
   "source": [
    "ass.show()"
   ]
  },
  {
   "cell_type": "code",
   "execution_count": null,
   "metadata": {
    "collapsed": false,
    "deletable": true,
    "editable": true
   },
   "outputs": [],
   "source": []
  },
  {
   "cell_type": "code",
   "execution_count": 149,
   "metadata": {
    "collapsed": false,
    "deletable": true,
    "editable": true
   },
   "outputs": [],
   "source": [
    "tr_dt,tst_dt = ass.randomSplit([0.7,0.3])"
   ]
  },
  {
   "cell_type": "code",
   "execution_count": 110,
   "metadata": {
    "collapsed": false,
    "deletable": true,
    "editable": true
   },
   "outputs": [],
   "source": [
    "gbt = GBTClassifier(maxIter=5, maxDepth=2, labelCol=\"Response\", seed=42)"
   ]
  },
  {
   "cell_type": "code",
   "execution_count": 150,
   "metadata": {
    "collapsed": false,
    "deletable": true,
    "editable": true
   },
   "outputs": [],
   "source": [
    "model = gbt.fit(tr_dt)"
   ]
  },
  {
   "cell_type": "code",
   "execution_count": 151,
   "metadata": {
    "collapsed": false,
    "deletable": true,
    "editable": true
   },
   "outputs": [
    {
     "data": {
      "text/plain": [
       "SparseVector(2, {0: 0.3884, 1: 0.6116})"
      ]
     },
     "execution_count": 151,
     "metadata": {},
     "output_type": "execute_result"
    }
   ],
   "source": [
    "model.featureImportances"
   ]
  },
  {
   "cell_type": "code",
   "execution_count": 152,
   "metadata": {
    "collapsed": false,
    "deletable": true,
    "editable": true
   },
   "outputs": [],
   "source": [
    "pr = model.transform(tst_dt)"
   ]
  },
  {
   "cell_type": "code",
   "execution_count": 114,
   "metadata": {
    "collapsed": false,
    "deletable": true,
    "editable": true
   },
   "outputs": [
    {
     "name": "stdout",
     "output_type": "stream",
     "text": [
      "+---+---+---+--------+--------+----------+\n",
      "| Id| F1| F2|Response|features|prediction|\n",
      "+---+---+---+--------+--------+----------+\n",
      "+---+---+---+--------+--------+----------+\n",
      "\n"
     ]
    }
   ],
   "source": [
    "pr.filter(pr.prediction == 1).show(79)"
   ]
  },
  {
   "cell_type": "code",
   "execution_count": 115,
   "metadata": {
    "collapsed": true,
    "deletable": true,
    "editable": true
   },
   "outputs": [],
   "source": [
    "from pyspark.ml.evaluation import BinaryClassificationEvaluator"
   ]
  },
  {
   "cell_type": "code",
   "execution_count": null,
   "metadata": {
    "collapsed": false,
    "deletable": true,
    "editable": true
   },
   "outputs": [],
   "source": []
  },
  {
   "cell_type": "code",
   "execution_count": null,
   "metadata": {
    "collapsed": false,
    "deletable": true,
    "editable": true
   },
   "outputs": [],
   "source": []
  },
  {
   "cell_type": "code",
   "execution_count": 160,
   "metadata": {
    "collapsed": false
   },
   "outputs": [
    {
     "name": "stdout",
     "output_type": "stream",
     "text": [
      "True Positives: 0\n",
      "True Negatives: 14865\n",
      "False Positives: 0\n",
      "False Negatives: 92\n",
      "Matthews correlation coefficient:  -1\n"
     ]
    }
   ],
   "source": [
    "matthews_corr_coef(pr,'Response','prediction')"
   ]
  },
  {
   "cell_type": "code",
   "execution_count": 159,
   "metadata": {
    "collapsed": false,
    "deletable": true,
    "editable": true
   },
   "outputs": [],
   "source": [
    "def matthews_corr_coef(df,label_col,prediction_col): \n",
    "    import math\n",
    "    tp = df[(df[label_col] == 1) & (df[prediction_col] == 1)].count()\n",
    "    tn = df[(df[label_col] == 0) & (df[prediction_col] == 0)].count()\n",
    "    fp = df[(df[label_col] == 0) & (df[prediction_col] == 1)].count()\n",
    "    fn = df[(df[label_col] == 1) & (df[prediction_col] == 0)].count()\n",
    "    print \"True Positives:\", tp\n",
    "    print \"True Negatives:\", tn\n",
    "    print \"False Positives:\", fp\n",
    "    print \"False Negatives:\", fn\n",
    "    #print \"Total\", df.count()\n",
    "    try:\n",
    "        MCC = ((tp * tn) - (fp * fn)) / math.sqrt((tp + fp)*(tp + fn)*(tn + fp)*(tn + fn))\n",
    "    except ZeroDivisionError:\n",
    "        MCC = -1\n",
    "    print  \"Matthews correlation coefficient: \", MCC\n",
    "    "
   ]
  },
  {
   "cell_type": "code",
   "execution_count": null,
   "metadata": {
    "collapsed": false,
    "deletable": true,
    "editable": true
   },
   "outputs": [],
   "source": []
  },
  {
   "cell_type": "code",
   "execution_count": null,
   "metadata": {
    "collapsed": false,
    "deletable": true,
    "editable": true
   },
   "outputs": [],
   "source": []
  },
  {
   "cell_type": "code",
   "execution_count": null,
   "metadata": {
    "collapsed": false,
    "deletable": true,
    "editable": true
   },
   "outputs": [],
   "source": []
  },
  {
   "cell_type": "code",
   "execution_count": null,
   "metadata": {
    "collapsed": false,
    "deletable": true,
    "editable": true
   },
   "outputs": [],
   "source": []
  },
  {
   "cell_type": "code",
   "execution_count": null,
   "metadata": {
    "collapsed": false,
    "deletable": true,
    "editable": true
   },
   "outputs": [],
   "source": []
  },
  {
   "cell_type": "code",
   "execution_count": null,
   "metadata": {
    "collapsed": false,
    "deletable": true,
    "editable": true
   },
   "outputs": [],
   "source": []
  },
  {
   "cell_type": "code",
   "execution_count": null,
   "metadata": {
    "collapsed": false,
    "deletable": true,
    "editable": true
   },
   "outputs": [],
   "source": []
  },
  {
   "cell_type": "code",
   "execution_count": null,
   "metadata": {
    "collapsed": false,
    "deletable": true,
    "editable": true
   },
   "outputs": [],
   "source": []
  },
  {
   "cell_type": "code",
   "execution_count": null,
   "metadata": {
    "collapsed": false,
    "deletable": true,
    "editable": true
   },
   "outputs": [],
   "source": []
  },
  {
   "cell_type": "code",
   "execution_count": null,
   "metadata": {
    "collapsed": false,
    "deletable": true,
    "editable": true
   },
   "outputs": [],
   "source": []
  },
  {
   "cell_type": "code",
   "execution_count": null,
   "metadata": {
    "collapsed": false,
    "deletable": true,
    "editable": true
   },
   "outputs": [],
   "source": []
  },
  {
   "cell_type": "code",
   "execution_count": null,
   "metadata": {
    "collapsed": true,
    "deletable": true,
    "editable": true
   },
   "outputs": [],
   "source": []
  }
 ],
 "metadata": {
  "kernelspec": {
   "display_name": "Python 2",
   "language": "python",
   "name": "python2"
  },
  "language_info": {
   "codemirror_mode": {
    "name": "ipython",
    "version": 2
   },
   "file_extension": ".py",
   "mimetype": "text/x-python",
   "name": "python",
   "nbconvert_exporter": "python",
   "pygments_lexer": "ipython2",
   "version": "2.7.12"
  }
 },
 "nbformat": 4,
 "nbformat_minor": 0
}
