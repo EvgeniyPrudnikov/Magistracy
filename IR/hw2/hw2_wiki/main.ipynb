{
 "cells": [
  {
   "cell_type": "code",
   "execution_count": 1,
   "metadata": {
    "collapsed": false,
    "deletable": true,
    "editable": true
   },
   "outputs": [],
   "source": [
    "import networkx as nx\n",
    "import pandas as pd"
   ]
  },
  {
   "cell_type": "code",
   "execution_count": 2,
   "metadata": {
    "collapsed": true,
    "deletable": true,
    "editable": true
   },
   "outputs": [],
   "source": [
    "file_name = './hw2_wiki/spiders/sitegraph2.json'"
   ]
  },
  {
   "cell_type": "code",
   "execution_count": 3,
   "metadata": {
    "collapsed": false,
    "deletable": true,
    "editable": true
   },
   "outputs": [
    {
     "data": {
      "text/html": [
       "<div>\n",
       "<table border=\"1\" class=\"dataframe\">\n",
       "  <thead>\n",
       "    <tr style=\"text-align: right;\">\n",
       "      <th></th>\n",
       "      <th>linked_urls</th>\n",
       "      <th>snippet</th>\n",
       "      <th>title</th>\n",
       "      <th>url</th>\n",
       "    </tr>\n",
       "  </thead>\n",
       "  <tbody>\n",
       "    <tr>\n",
       "      <th>0</th>\n",
       "      <td>None</td>\n",
       "      <td>Minsk (Belarusian: Мінск pronounced [mʲinsk]; ...</td>\n",
       "      <td>Minsk</td>\n",
       "      <td>https://en.wikipedia.org/wiki/Minsk</td>\n",
       "    </tr>\n",
       "    <tr>\n",
       "      <th>1</th>\n",
       "      <td>https://en.wikipedia.org/wiki/Minsk</td>\n",
       "      <td>The Neman, Nemunas, Nyoman, Niemen or Memel,[1...</td>\n",
       "      <td>Neman (river)</td>\n",
       "      <td>https://en.wikipedia.org/wiki/Neman_River</td>\n",
       "    </tr>\n",
       "    <tr>\n",
       "      <th>2</th>\n",
       "      <td>None</td>\n",
       "      <td>Coordinates: 27°S 133°E﻿ / ﻿27°S 133°E﻿ / -27;...</td>\n",
       "      <td>Australia</td>\n",
       "      <td>https://en.wikipedia.org/wiki/Australia</td>\n",
       "    </tr>\n",
       "    <tr>\n",
       "      <th>3</th>\n",
       "      <td>https://en.wikipedia.org/wiki/Minsk</td>\n",
       "      <td>Minsk Voivodeship (Belarusian: Менскае ваяводз...</td>\n",
       "      <td>Minsk Voivodeship</td>\n",
       "      <td>https://en.wikipedia.org/wiki/Minsk_Voivodeship</td>\n",
       "    </tr>\n",
       "    <tr>\n",
       "      <th>4</th>\n",
       "      <td>None</td>\n",
       "      <td>Coordinates: 60°N 90°E﻿ / ﻿60°N 90°E﻿ / 60; 90...</td>\n",
       "      <td>Russia</td>\n",
       "      <td>https://en.wikipedia.org/wiki/Russia</td>\n",
       "    </tr>\n",
       "  </tbody>\n",
       "</table>\n",
       "</div>"
      ],
      "text/plain": [
       "                           linked_urls  \\\n",
       "0                                 None   \n",
       "1  https://en.wikipedia.org/wiki/Minsk   \n",
       "2                                 None   \n",
       "3  https://en.wikipedia.org/wiki/Minsk   \n",
       "4                                 None   \n",
       "\n",
       "                                             snippet              title  \\\n",
       "0  Minsk (Belarusian: Мінск pronounced [mʲinsk]; ...              Minsk   \n",
       "1  The Neman, Nemunas, Nyoman, Niemen or Memel,[1...      Neman (river)   \n",
       "2  Coordinates: 27°S 133°E﻿ / ﻿27°S 133°E﻿ / -27;...          Australia   \n",
       "3  Minsk Voivodeship (Belarusian: Менскае ваяводз...  Minsk Voivodeship   \n",
       "4  Coordinates: 60°N 90°E﻿ / ﻿60°N 90°E﻿ / 60; 90...             Russia   \n",
       "\n",
       "                                               url  \n",
       "0              https://en.wikipedia.org/wiki/Minsk  \n",
       "1        https://en.wikipedia.org/wiki/Neman_River  \n",
       "2          https://en.wikipedia.org/wiki/Australia  \n",
       "3  https://en.wikipedia.org/wiki/Minsk_Voivodeship  \n",
       "4             https://en.wikipedia.org/wiki/Russia  "
      ]
     },
     "execution_count": 3,
     "metadata": {},
     "output_type": "execute_result"
    }
   ],
   "source": [
    "with open(file_name, 'rb') as f:\n",
    "    data = f.readlines()\n",
    "data = map(lambda x: x.rstrip(), data)\n",
    "data_json_str = \"[\" + ','.join(data) + \"]\"\n",
    "main_df = pd.read_json(data_json_str)\n",
    "main_df['url'] = main_df['url'].astype(basestring).map(lambda x : x.strip())\n",
    "main_df.head()"
   ]
  },
  {
   "cell_type": "code",
   "execution_count": 4,
   "metadata": {
    "collapsed": false
   },
   "outputs": [
    {
     "name": "stdout",
     "output_type": "stream",
     "text": [
      "number of nodes:  10003\n",
      "number of edges:  9999\n"
     ]
    }
   ],
   "source": [
    "dg = nx.DiGraph()\n",
    "edges = [ i for i in zip(main_df['url'], main_df['linked_urls']) if i[1]]\n",
    "dg.add_edges_from(edges)\n",
    "print 'number of nodes: ', dg.number_of_nodes()\n",
    "print 'number of edges: ', dg.number_of_edges()"
   ]
  },
  {
   "cell_type": "code",
   "execution_count": 5,
   "metadata": {
    "collapsed": false,
    "deletable": true,
    "editable": true
   },
   "outputs": [],
   "source": [
    "pr = nx.pagerank(dg, alpha=0.85)"
   ]
  },
  {
   "cell_type": "code",
   "execution_count": 6,
   "metadata": {
    "collapsed": false,
    "deletable": true,
    "editable": true
   },
   "outputs": [
    {
     "data": {
      "text/html": [
       "<div>\n",
       "<table border=\"1\" class=\"dataframe\">\n",
       "  <thead>\n",
       "    <tr style=\"text-align: right;\">\n",
       "      <th></th>\n",
       "      <th>linked_urls</th>\n",
       "      <th>snippet</th>\n",
       "      <th>title</th>\n",
       "      <th>url</th>\n",
       "      <th>pageRank</th>\n",
       "    </tr>\n",
       "  </thead>\n",
       "  <tbody>\n",
       "    <tr>\n",
       "      <th>0</th>\n",
       "      <td>https://en.wikipedia.org/wiki/Russia</td>\n",
       "      <td>Russian (ру́сский язы́к, russkiy yazik, pronou...</td>\n",
       "      <td>Russian language</td>\n",
       "      <td>https://en.wikipedia.org/wiki/Russian_language</td>\n",
       "      <td>0.002115</td>\n",
       "    </tr>\n",
       "    <tr>\n",
       "      <th>1</th>\n",
       "      <td>https://en.wikipedia.org/wiki/John_C._Fr%C3%A9...</td>\n",
       "      <td>Rutherford Birchard Hayes (October 4, 1822 – J...</td>\n",
       "      <td>Rutherford B. Hayes</td>\n",
       "      <td>https://en.wikipedia.org/wiki/Rutherford_B._Hayes</td>\n",
       "      <td>0.001957</td>\n",
       "    </tr>\n",
       "    <tr>\n",
       "      <th>2</th>\n",
       "      <td>https://en.wikipedia.org/wiki/Methodism</td>\n",
       "      <td>Assurance is a Protestant Christian doctrine t...</td>\n",
       "      <td>Assurance (theology)</td>\n",
       "      <td>https://en.wikipedia.org/wiki/Assurance_(theol...</td>\n",
       "      <td>0.002025</td>\n",
       "    </tr>\n",
       "    <tr>\n",
       "      <th>3</th>\n",
       "      <td>https://en.wikipedia.org/wiki/Cartoon</td>\n",
       "      <td>Jean Parker Shepherd, Jr. (July 26, 1921 – Oct...</td>\n",
       "      <td>Jean Shepherd</td>\n",
       "      <td>https://en.wikipedia.org/wiki/Jean_Shepherd</td>\n",
       "      <td>0.001920</td>\n",
       "    </tr>\n",
       "    <tr>\n",
       "      <th>4</th>\n",
       "      <td>https://en.wikipedia.org/wiki/Daniel_Radcliffe</td>\n",
       "      <td>Anne Jacqueline Hathaway (born November 12, 19...</td>\n",
       "      <td>Anne Hathaway</td>\n",
       "      <td>https://en.wikipedia.org/wiki/Anne_Hathaway</td>\n",
       "      <td>0.001946</td>\n",
       "    </tr>\n",
       "  </tbody>\n",
       "</table>\n",
       "</div>"
      ],
      "text/plain": [
       "                                         linked_urls  \\\n",
       "0               https://en.wikipedia.org/wiki/Russia   \n",
       "1  https://en.wikipedia.org/wiki/John_C._Fr%C3%A9...   \n",
       "2            https://en.wikipedia.org/wiki/Methodism   \n",
       "3              https://en.wikipedia.org/wiki/Cartoon   \n",
       "4     https://en.wikipedia.org/wiki/Daniel_Radcliffe   \n",
       "\n",
       "                                             snippet                 title  \\\n",
       "0  Russian (ру́сский язы́к, russkiy yazik, pronou...      Russian language   \n",
       "1  Rutherford Birchard Hayes (October 4, 1822 – J...   Rutherford B. Hayes   \n",
       "2  Assurance is a Protestant Christian doctrine t...  Assurance (theology)   \n",
       "3  Jean Parker Shepherd, Jr. (July 26, 1921 – Oct...         Jean Shepherd   \n",
       "4  Anne Jacqueline Hathaway (born November 12, 19...         Anne Hathaway   \n",
       "\n",
       "                                                 url  pageRank  \n",
       "0     https://en.wikipedia.org/wiki/Russian_language  0.002115  \n",
       "1  https://en.wikipedia.org/wiki/Rutherford_B._Hayes  0.001957  \n",
       "2  https://en.wikipedia.org/wiki/Assurance_(theol...  0.002025  \n",
       "3        https://en.wikipedia.org/wiki/Jean_Shepherd  0.001920  \n",
       "4        https://en.wikipedia.org/wiki/Anne_Hathaway  0.001946  "
      ]
     },
     "execution_count": 6,
     "metadata": {},
     "output_type": "execute_result"
    }
   ],
   "source": [
    "pr_df = pd.DataFrame([(key, pr[key]) for key in sorted(pr, key=pr.get, reverse=True)][:10], columns=['url','pageRank'])\n",
    "main_df = pd.merge(main_df, pr_df, on='url')\n",
    "main_df.head(5)"
   ]
  },
  {
   "cell_type": "code",
   "execution_count": 7,
   "metadata": {
    "collapsed": false,
    "deletable": true,
    "editable": true
   },
   "outputs": [
    {
     "name": "stdout",
     "output_type": "stream",
     "text": [
      "Russian language 0.00211479670388\n",
      "https://en.wikipedia.org/wiki/Russian_language\n",
      "Russian (ру́сский язы́к, russkiy yazik, pronounced [ˈruskʲɪj jɪˈzɨk] ( listen)) is an East Slavic language and an official language in Russia, Belarus, Kazakhstan, Kyrgyzstan and many minor or unrecognised territories. It is an unofficial but widely spoke...\n",
      "\n",
      "Meryl Streep 0.00203770709263\n",
      "https://en.wikipedia.org/wiki/Meryl_Streep\n",
      "Mary Louise \"Meryl\" Streep (born June 22, 1949) is an American actress and philanthropist. Cited in the media as the \"best actress of her generation\",[1][2][3] – a designation to which she objects[4] – Streep is particularly known for her versatility in h...\n",
      "\n",
      "Assurance (theology) 0.00202538035593\n",
      "https://en.wikipedia.org/wiki/Assurance_(theology)\n",
      "Assurance is a Protestant Christian doctrine that states that the inner witness of the Holy Spirit allows the justified disciple to know that he or she is saved. Based on the writings of St. Augustine of Hippo, assurance was historically a very important ...\n",
      "\n",
      "International Congress of Mathematicians 0.00200973912618\n",
      "https://en.wikipedia.org/wiki/International_Congress_of_Mathematicians\n",
      "The International Congress of Mathematicians (ICM) is the largest conference for the topic of mathematics. It meets once every four years, hosted by the International Mathematical Union (IMU)....\n",
      "\n",
      "George Grey 0.00197808190444\n",
      "https://en.wikipedia.org/wiki/George_Edward_Grey\n",
      "Sir George Grey, KCB (14 April 1812 – 19 September 1898) was a British soldier, explorer, Governor of South Australia, twice Governor of New Zealand, Governor of Cape Colony (South Africa), the 11th Premier of New Zealand and a writer. By political philos...\n",
      "\n",
      "Rutherford B. Hayes 0.00195728697361\n",
      "https://en.wikipedia.org/wiki/Rutherford_B._Hayes\n",
      "Rutherford Birchard Hayes (October 4, 1822 – January 17, 1893) was the 19th President of the United States (1877–81). He became President at the end of the Reconstruction Era of the United States through a complex Compromise of 1877. As President he ended...\n",
      "\n",
      "Anne Hathaway 0.00194620270353\n",
      "https://en.wikipedia.org/wiki/Anne_Hathaway\n",
      "Anne Jacqueline Hathaway (born November 12, 1982) is an American actress and singer. Born in Brooklyn, New York and brought up in Millburn, New Jersey, Hathaway was inspired to act by her mother and as a high school student was nominated for the Paper Mil...\n",
      "\n",
      "English law 0.00193447680976\n",
      "https://en.wikipedia.org/wiki/English_legal_system\n",
      "English law is the common law legal system governing England and Wales, comprising criminal law and civil law....\n",
      "\n",
      "Jean Shepherd 0.00191989541672\n",
      "https://en.wikipedia.org/wiki/Jean_Shepherd\n",
      "Jean Parker Shepherd, Jr. (July 26, 1921 – October 16, 1999) was an American storyteller, radio and TV personality, writer and actor who was often referred to by the nickname Shep.[1]...\n",
      "\n",
      "Extreme poverty 0.00189554060933\n",
      "https://en.wikipedia.org/wiki/Absolute_poverty\n",
      "Extreme poverty, absolute poverty, destitution or penury, was originally defined by the United Nations in 1995 as \"a condition characterized by severe deprivation of basic human needs, including food, safe drinking water, sanitation facilities, health, sh...\n",
      "\n"
     ]
    }
   ],
   "source": [
    "for r in main_df.sort_values('pageRank',ascending=False).iterrows():\n",
    "    print u'{0} {1}\\n{2}\\n{3}\\n'.format(r[1]['title'],r[1]['pageRank'],r[1]['url'],r[1]['snippet'])"
   ]
  },
  {
   "cell_type": "code",
   "execution_count": null,
   "metadata": {
    "collapsed": true,
    "deletable": true,
    "editable": true
   },
   "outputs": [],
   "source": []
  }
 ],
 "metadata": {
  "kernelspec": {
   "display_name": "Python 2",
   "language": "python",
   "name": "python2"
  },
  "language_info": {
   "codemirror_mode": {
    "name": "ipython",
    "version": 2
   },
   "file_extension": ".py",
   "mimetype": "text/x-python",
   "name": "python",
   "nbconvert_exporter": "python",
   "pygments_lexer": "ipython2",
   "version": "2.7.12"
  }
 },
 "nbformat": 4,
 "nbformat_minor": 2
}
